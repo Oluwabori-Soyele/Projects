{
 "cells": [
  {
   "cell_type": "markdown",
   "id": "fde0a9c3",
   "metadata": {},
   "source": [
    "<h2 style=\"color:blue\" align=\"center\"> WTF23 DATA SCIENCE AND ARTIFICIAL INTELLIGENCE </h2>\n",
    "<h2 style=\"color:blue\" align=\"center\"> GROUP C SUBGROUP 6 </h2>\n",
    "<h2 style=\"color:blue\" align=\"center\"> MINI-PROJECT ON DISEASE OUT-BREAK IN NIGERIA </h2>"
   ]
  },
  {
   "cell_type": "markdown",
   "id": "9555afda",
   "metadata": {},
   "source": [
    "### Aim and Objective:\n",
    "#### To determine the correlation between the disease cases and it effects based on states, settlements, gender, and age groups amongst others.\n"
   ]
  },
  {
   "cell_type": "markdown",
   "id": "863e88bf",
   "metadata": {},
   "source": [
    "## Problem Statement\n",
    "\n",
    "1. Comparing different diseases againt age groups? If Children or Adults are more affected based on a particular diseases.\n",
    "2. Which disease is the most prevalent against settlements? \n",
    "3. Mortality rate between genders.\n",
    "4. Mortality rate btween rural and urban settlements \n",
    "5. Based on the diseases is there any trends to show if any deadly disease like Ebola can still surface in future.\n",
    "6. Based on the diseases, is there any trends to show if any deadly disease like Malaria can still surface in the future\n",
    "7. Is there any correlation between the columns that will predict if age can have high rate of contacting a particular disease. \n",
    "8. Disease more predominate in both male and female gender.\n",
    "9. Disease more prevelant in different states.\n",
    "10. To check state with the highest disease outbreak\n",
    "    Health status and year\n",
    "11. Which particular state is mostly affected based on malaria?"
   ]
  },
  {
   "cell_type": "code",
   "execution_count": 1,
   "id": "bfb5959b",
   "metadata": {},
   "outputs": [],
   "source": [
    "#Importing all the libraries and modules\n",
    "import numpy as np \n",
    "import pandas as pd \n",
    "import matplotlib.pyplot as plt \n",
    "import seaborn as sns\n",
    "%matplotlib inline\n",
    "import plotly.express as px\n",
    "import warnings \n",
    "warnings.filterwarnings('ignore')\n",
    "import plotly.express as px\n",
    "from sklearn.linear_model import LogisticRegression\n",
    "from sklearn.metrics import confusion_matrix, classification_report"
   ]
  },
  {
   "cell_type": "code",
   "execution_count": 2,
   "id": "08e3cf32",
   "metadata": {},
   "outputs": [
    {
     "data": {
      "text/html": [
       "<div>\n",
       "<style scoped>\n",
       "    .dataframe tbody tr th:only-of-type {\n",
       "        vertical-align: middle;\n",
       "    }\n",
       "\n",
       "    .dataframe tbody tr th {\n",
       "        vertical-align: top;\n",
       "    }\n",
       "\n",
       "    .dataframe thead th {\n",
       "        text-align: right;\n",
       "    }\n",
       "</style>\n",
       "<table border=\"1\" class=\"dataframe\">\n",
       "  <thead>\n",
       "    <tr style=\"text-align: right;\">\n",
       "      <th></th>\n",
       "      <th>id</th>\n",
       "      <th>surname</th>\n",
       "      <th>firstname</th>\n",
       "      <th>middlename</th>\n",
       "      <th>gender</th>\n",
       "      <th>gender_male</th>\n",
       "      <th>gender_female</th>\n",
       "      <th>state</th>\n",
       "      <th>settlement</th>\n",
       "      <th>rural_settlement</th>\n",
       "      <th>...</th>\n",
       "      <th>NmA</th>\n",
       "      <th>NmC</th>\n",
       "      <th>NmW</th>\n",
       "      <th>health_status</th>\n",
       "      <th>alive</th>\n",
       "      <th>dead</th>\n",
       "      <th>report_outcome</th>\n",
       "      <th>unconfirmed</th>\n",
       "      <th>confirmed</th>\n",
       "      <th>null_serotype</th>\n",
       "    </tr>\n",
       "  </thead>\n",
       "  <tbody>\n",
       "    <tr>\n",
       "      <th>0</th>\n",
       "      <td>1</td>\n",
       "      <td>Solade</td>\n",
       "      <td>Grace</td>\n",
       "      <td>Solape</td>\n",
       "      <td>Female</td>\n",
       "      <td>0</td>\n",
       "      <td>1</td>\n",
       "      <td>Rivers</td>\n",
       "      <td>Rural</td>\n",
       "      <td>1</td>\n",
       "      <td>...</td>\n",
       "      <td>0</td>\n",
       "      <td>0</td>\n",
       "      <td>0</td>\n",
       "      <td>alive</td>\n",
       "      <td>1</td>\n",
       "      <td>0</td>\n",
       "      <td>confirmed</td>\n",
       "      <td>0</td>\n",
       "      <td>1</td>\n",
       "      <td>1</td>\n",
       "    </tr>\n",
       "    <tr>\n",
       "      <th>1</th>\n",
       "      <td>2</td>\n",
       "      <td>Eneche</td>\n",
       "      <td>Kure</td>\n",
       "      <td>Balogun</td>\n",
       "      <td>Male</td>\n",
       "      <td>1</td>\n",
       "      <td>0</td>\n",
       "      <td>Ebonyi</td>\n",
       "      <td>Rural</td>\n",
       "      <td>1</td>\n",
       "      <td>...</td>\n",
       "      <td>0</td>\n",
       "      <td>0</td>\n",
       "      <td>1</td>\n",
       "      <td>Alive</td>\n",
       "      <td>1</td>\n",
       "      <td>0</td>\n",
       "      <td>Confirmed</td>\n",
       "      <td>1</td>\n",
       "      <td>0</td>\n",
       "      <td>1</td>\n",
       "    </tr>\n",
       "    <tr>\n",
       "      <th>2</th>\n",
       "      <td>3</td>\n",
       "      <td>Sanusi</td>\n",
       "      <td>Adaugo</td>\n",
       "      <td>Katerine</td>\n",
       "      <td>Female</td>\n",
       "      <td>0</td>\n",
       "      <td>1</td>\n",
       "      <td>Ogun</td>\n",
       "      <td>Urban</td>\n",
       "      <td>0</td>\n",
       "      <td>...</td>\n",
       "      <td>0</td>\n",
       "      <td>0</td>\n",
       "      <td>1</td>\n",
       "      <td>Dead</td>\n",
       "      <td>0</td>\n",
       "      <td>1</td>\n",
       "      <td>Not Confirmed</td>\n",
       "      <td>1</td>\n",
       "      <td>0</td>\n",
       "      <td>1</td>\n",
       "    </tr>\n",
       "    <tr>\n",
       "      <th>3</th>\n",
       "      <td>4</td>\n",
       "      <td>Sowore</td>\n",
       "      <td>Mooslemat</td>\n",
       "      <td>Ifedayo</td>\n",
       "      <td>Female</td>\n",
       "      <td>0</td>\n",
       "      <td>1</td>\n",
       "      <td>Ondo</td>\n",
       "      <td>Rural</td>\n",
       "      <td>1</td>\n",
       "      <td>...</td>\n",
       "      <td>0</td>\n",
       "      <td>0</td>\n",
       "      <td>1</td>\n",
       "      <td>Alive</td>\n",
       "      <td>1</td>\n",
       "      <td>0</td>\n",
       "      <td>Not Confirmed</td>\n",
       "      <td>1</td>\n",
       "      <td>0</td>\n",
       "      <td>1</td>\n",
       "    </tr>\n",
       "    <tr>\n",
       "      <th>4</th>\n",
       "      <td>5</td>\n",
       "      <td>Abdusalam</td>\n",
       "      <td>Yusuf</td>\n",
       "      <td>Okafor</td>\n",
       "      <td>Male</td>\n",
       "      <td>1</td>\n",
       "      <td>0</td>\n",
       "      <td>Oyo</td>\n",
       "      <td>Urban</td>\n",
       "      <td>0</td>\n",
       "      <td>...</td>\n",
       "      <td>0</td>\n",
       "      <td>0</td>\n",
       "      <td>1</td>\n",
       "      <td>Alive</td>\n",
       "      <td>1</td>\n",
       "      <td>0</td>\n",
       "      <td>Confirmed</td>\n",
       "      <td>1</td>\n",
       "      <td>0</td>\n",
       "      <td>1</td>\n",
       "    </tr>\n",
       "    <tr>\n",
       "      <th>...</th>\n",
       "      <td>...</td>\n",
       "      <td>...</td>\n",
       "      <td>...</td>\n",
       "      <td>...</td>\n",
       "      <td>...</td>\n",
       "      <td>...</td>\n",
       "      <td>...</td>\n",
       "      <td>...</td>\n",
       "      <td>...</td>\n",
       "      <td>...</td>\n",
       "      <td>...</td>\n",
       "      <td>...</td>\n",
       "      <td>...</td>\n",
       "      <td>...</td>\n",
       "      <td>...</td>\n",
       "      <td>...</td>\n",
       "      <td>...</td>\n",
       "      <td>...</td>\n",
       "      <td>...</td>\n",
       "      <td>...</td>\n",
       "      <td>...</td>\n",
       "    </tr>\n",
       "    <tr>\n",
       "      <th>284479</th>\n",
       "      <td>288418</td>\n",
       "      <td>Mukthar</td>\n",
       "      <td>Alimat</td>\n",
       "      <td>Ajibewa</td>\n",
       "      <td>Female</td>\n",
       "      <td>0</td>\n",
       "      <td>1</td>\n",
       "      <td>Cross River</td>\n",
       "      <td>Rural</td>\n",
       "      <td>1</td>\n",
       "      <td>...</td>\n",
       "      <td>0</td>\n",
       "      <td>0</td>\n",
       "      <td>1</td>\n",
       "      <td>Dead</td>\n",
       "      <td>0</td>\n",
       "      <td>1</td>\n",
       "      <td>Confirmed</td>\n",
       "      <td>1</td>\n",
       "      <td>0</td>\n",
       "      <td>1</td>\n",
       "    </tr>\n",
       "    <tr>\n",
       "      <th>284480</th>\n",
       "      <td>288419</td>\n",
       "      <td>Akenzua</td>\n",
       "      <td>Deborah</td>\n",
       "      <td>Rofeeqat</td>\n",
       "      <td>Female</td>\n",
       "      <td>0</td>\n",
       "      <td>1</td>\n",
       "      <td>Kwara</td>\n",
       "      <td>Urban</td>\n",
       "      <td>0</td>\n",
       "      <td>...</td>\n",
       "      <td>0</td>\n",
       "      <td>0</td>\n",
       "      <td>1</td>\n",
       "      <td>Dead</td>\n",
       "      <td>0</td>\n",
       "      <td>1</td>\n",
       "      <td>Confirmed</td>\n",
       "      <td>1</td>\n",
       "      <td>0</td>\n",
       "      <td>1</td>\n",
       "    </tr>\n",
       "    <tr>\n",
       "      <th>284481</th>\n",
       "      <td>288420</td>\n",
       "      <td>Isa</td>\n",
       "      <td>Deborah</td>\n",
       "      <td>Tofunmi</td>\n",
       "      <td>Female</td>\n",
       "      <td>0</td>\n",
       "      <td>1</td>\n",
       "      <td>Katsina</td>\n",
       "      <td>Rural</td>\n",
       "      <td>1</td>\n",
       "      <td>...</td>\n",
       "      <td>0</td>\n",
       "      <td>0</td>\n",
       "      <td>1</td>\n",
       "      <td>Alive</td>\n",
       "      <td>1</td>\n",
       "      <td>0</td>\n",
       "      <td>Confirmed</td>\n",
       "      <td>0</td>\n",
       "      <td>1</td>\n",
       "      <td>1</td>\n",
       "    </tr>\n",
       "    <tr>\n",
       "      <th>284482</th>\n",
       "      <td>288421</td>\n",
       "      <td>Uba</td>\n",
       "      <td>Ismail</td>\n",
       "      <td>Akpabio</td>\n",
       "      <td>Male</td>\n",
       "      <td>1</td>\n",
       "      <td>0</td>\n",
       "      <td>Jigawa</td>\n",
       "      <td>Rural</td>\n",
       "      <td>1</td>\n",
       "      <td>...</td>\n",
       "      <td>0</td>\n",
       "      <td>0</td>\n",
       "      <td>1</td>\n",
       "      <td>Dead</td>\n",
       "      <td>0</td>\n",
       "      <td>1</td>\n",
       "      <td>Not Confirmed</td>\n",
       "      <td>1</td>\n",
       "      <td>0</td>\n",
       "      <td>1</td>\n",
       "    </tr>\n",
       "    <tr>\n",
       "      <th>284483</th>\n",
       "      <td>288422</td>\n",
       "      <td>Alao</td>\n",
       "      <td>Paulina</td>\n",
       "      <td>Sade</td>\n",
       "      <td>Female</td>\n",
       "      <td>0</td>\n",
       "      <td>1</td>\n",
       "      <td>Kogi</td>\n",
       "      <td>Urban</td>\n",
       "      <td>0</td>\n",
       "      <td>...</td>\n",
       "      <td>0</td>\n",
       "      <td>0</td>\n",
       "      <td>1</td>\n",
       "      <td>Alive</td>\n",
       "      <td>1</td>\n",
       "      <td>0</td>\n",
       "      <td>Confirmed</td>\n",
       "      <td>0</td>\n",
       "      <td>1</td>\n",
       "      <td>1</td>\n",
       "    </tr>\n",
       "  </tbody>\n",
       "</table>\n",
       "<p>284484 rows × 40 columns</p>\n",
       "</div>"
      ],
      "text/plain": [
       "            id    surname  firstname middlename  gender  gender_male  \\\n",
       "0            1     Solade      Grace     Solape  Female            0   \n",
       "1            2     Eneche       Kure    Balogun    Male            1   \n",
       "2            3     Sanusi     Adaugo   Katerine  Female            0   \n",
       "3            4     Sowore  Mooslemat    Ifedayo  Female            0   \n",
       "4            5  Abdusalam      Yusuf     Okafor    Male            1   \n",
       "...        ...        ...        ...        ...     ...          ...   \n",
       "284479  288418    Mukthar     Alimat    Ajibewa  Female            0   \n",
       "284480  288419    Akenzua    Deborah   Rofeeqat  Female            0   \n",
       "284481  288420        Isa    Deborah    Tofunmi  Female            0   \n",
       "284482  288421        Uba     Ismail    Akpabio    Male            1   \n",
       "284483  288422       Alao    Paulina       Sade  Female            0   \n",
       "\n",
       "        gender_female        state settlement  rural_settlement  ...  NmA NmC  \\\n",
       "0                   1       Rivers      Rural                 1  ...    0   0   \n",
       "1                   0       Ebonyi      Rural                 1  ...    0   0   \n",
       "2                   1         Ogun      Urban                 0  ...    0   0   \n",
       "3                   1         Ondo      Rural                 1  ...    0   0   \n",
       "4                   0          Oyo      Urban                 0  ...    0   0   \n",
       "...               ...          ...        ...               ...  ...  ...  ..   \n",
       "284479              1  Cross River      Rural                 1  ...    0   0   \n",
       "284480              1        Kwara      Urban                 0  ...    0   0   \n",
       "284481              1      Katsina      Rural                 1  ...    0   0   \n",
       "284482              0       Jigawa      Rural                 1  ...    0   0   \n",
       "284483              1         Kogi      Urban                 0  ...    0   0   \n",
       "\n",
       "        NmW  health_status alive dead  report_outcome  unconfirmed confirmed  \\\n",
       "0         0          alive     1    0       confirmed            0         1   \n",
       "1         1          Alive     1    0       Confirmed            1         0   \n",
       "2         1           Dead     0    1   Not Confirmed            1         0   \n",
       "3         1          Alive     1    0   Not Confirmed            1         0   \n",
       "4         1          Alive     1    0       Confirmed            1         0   \n",
       "...     ...            ...   ...  ...             ...          ...       ...   \n",
       "284479    1           Dead     0    1       Confirmed            1         0   \n",
       "284480    1           Dead     0    1       Confirmed            1         0   \n",
       "284481    1          Alive     1    0       Confirmed            0         1   \n",
       "284482    1           Dead     0    1   Not Confirmed            1         0   \n",
       "284483    1          Alive     1    0       Confirmed            0         1   \n",
       "\n",
       "        null_serotype  \n",
       "0                   1  \n",
       "1                   1  \n",
       "2                   1  \n",
       "3                   1  \n",
       "4                   1  \n",
       "...               ...  \n",
       "284479              1  \n",
       "284480              1  \n",
       "284481              1  \n",
       "284482              1  \n",
       "284483              1  \n",
       "\n",
       "[284484 rows x 40 columns]"
      ]
     },
     "execution_count": 2,
     "metadata": {},
     "output_type": "execute_result"
    }
   ],
   "source": [
    "#Importing the dataset\n",
    "meni_data1 = pd.read_csv('meningitis_dataset (1).csv')\n",
    "meni_data1"
   ]
  },
  {
   "cell_type": "markdown",
   "id": "b7dc835c",
   "metadata": {},
   "source": [
    "## Data Cleaning "
   ]
  },
  {
   "cell_type": "code",
   "execution_count": 147,
   "id": "36f9b53a",
   "metadata": {},
   "outputs": [
    {
     "data": {
      "text/html": [
       "<div>\n",
       "<style scoped>\n",
       "    .dataframe tbody tr th:only-of-type {\n",
       "        vertical-align: middle;\n",
       "    }\n",
       "\n",
       "    .dataframe tbody tr th {\n",
       "        vertical-align: top;\n",
       "    }\n",
       "\n",
       "    .dataframe thead th {\n",
       "        text-align: right;\n",
       "    }\n",
       "</style>\n",
       "<table border=\"1\" class=\"dataframe\">\n",
       "  <thead>\n",
       "    <tr style=\"text-align: right;\">\n",
       "      <th></th>\n",
       "      <th>gender</th>\n",
       "      <th>state</th>\n",
       "      <th>settlement</th>\n",
       "      <th>report_date</th>\n",
       "      <th>report_year</th>\n",
       "      <th>age</th>\n",
       "      <th>child_group</th>\n",
       "      <th>adult_group</th>\n",
       "      <th>disease</th>\n",
       "      <th>serotype</th>\n",
       "      <th>health_status</th>\n",
       "      <th>report_outcome</th>\n",
       "      <th>null_serotype</th>\n",
       "      <th>Age_group</th>\n",
       "    </tr>\n",
       "  </thead>\n",
       "  <tbody>\n",
       "    <tr>\n",
       "      <th>0</th>\n",
       "      <td>Female</td>\n",
       "      <td>Rivers</td>\n",
       "      <td>Rural</td>\n",
       "      <td>2018-05-15</td>\n",
       "      <td>2018</td>\n",
       "      <td>32</td>\n",
       "      <td>0</td>\n",
       "      <td>1</td>\n",
       "      <td>0</td>\n",
       "      <td>null serotype</td>\n",
       "      <td>alive</td>\n",
       "      <td>2</td>\n",
       "      <td>1</td>\n",
       "      <td>0</td>\n",
       "    </tr>\n",
       "    <tr>\n",
       "      <th>1</th>\n",
       "      <td>Male</td>\n",
       "      <td>Ebonyi</td>\n",
       "      <td>Rural</td>\n",
       "      <td>2017-02-28</td>\n",
       "      <td>2017</td>\n",
       "      <td>32</td>\n",
       "      <td>0</td>\n",
       "      <td>1</td>\n",
       "      <td>4</td>\n",
       "      <td>Null</td>\n",
       "      <td>Alive</td>\n",
       "      <td>0</td>\n",
       "      <td>1</td>\n",
       "      <td>0</td>\n",
       "    </tr>\n",
       "    <tr>\n",
       "      <th>2</th>\n",
       "      <td>Female</td>\n",
       "      <td>Ogun</td>\n",
       "      <td>Urban</td>\n",
       "      <td>2012-03-02</td>\n",
       "      <td>2012</td>\n",
       "      <td>24</td>\n",
       "      <td>0</td>\n",
       "      <td>1</td>\n",
       "      <td>4</td>\n",
       "      <td>Null</td>\n",
       "      <td>Dead</td>\n",
       "      <td>1</td>\n",
       "      <td>1</td>\n",
       "      <td>0</td>\n",
       "    </tr>\n",
       "    <tr>\n",
       "      <th>3</th>\n",
       "      <td>Female</td>\n",
       "      <td>Ondo</td>\n",
       "      <td>Rural</td>\n",
       "      <td>2010-05-21</td>\n",
       "      <td>2010</td>\n",
       "      <td>63</td>\n",
       "      <td>0</td>\n",
       "      <td>1</td>\n",
       "      <td>5</td>\n",
       "      <td>Null</td>\n",
       "      <td>Alive</td>\n",
       "      <td>1</td>\n",
       "      <td>1</td>\n",
       "      <td>2</td>\n",
       "    </tr>\n",
       "    <tr>\n",
       "      <th>4</th>\n",
       "      <td>Male</td>\n",
       "      <td>Oyo</td>\n",
       "      <td>Urban</td>\n",
       "      <td>2017-08-28</td>\n",
       "      <td>2017</td>\n",
       "      <td>9</td>\n",
       "      <td>1</td>\n",
       "      <td>0</td>\n",
       "      <td>7</td>\n",
       "      <td>Null</td>\n",
       "      <td>Alive</td>\n",
       "      <td>0</td>\n",
       "      <td>1</td>\n",
       "      <td>1</td>\n",
       "    </tr>\n",
       "    <tr>\n",
       "      <th>...</th>\n",
       "      <td>...</td>\n",
       "      <td>...</td>\n",
       "      <td>...</td>\n",
       "      <td>...</td>\n",
       "      <td>...</td>\n",
       "      <td>...</td>\n",
       "      <td>...</td>\n",
       "      <td>...</td>\n",
       "      <td>...</td>\n",
       "      <td>...</td>\n",
       "      <td>...</td>\n",
       "      <td>...</td>\n",
       "      <td>...</td>\n",
       "      <td>...</td>\n",
       "    </tr>\n",
       "    <tr>\n",
       "      <th>284479</th>\n",
       "      <td>Female</td>\n",
       "      <td>Cross River</td>\n",
       "      <td>Rural</td>\n",
       "      <td>2012-08-24</td>\n",
       "      <td>2012</td>\n",
       "      <td>67</td>\n",
       "      <td>0</td>\n",
       "      <td>1</td>\n",
       "      <td>2</td>\n",
       "      <td>Null</td>\n",
       "      <td>Dead</td>\n",
       "      <td>0</td>\n",
       "      <td>1</td>\n",
       "      <td>2</td>\n",
       "    </tr>\n",
       "    <tr>\n",
       "      <th>284480</th>\n",
       "      <td>Female</td>\n",
       "      <td>Kwara</td>\n",
       "      <td>Urban</td>\n",
       "      <td>2009-01-19</td>\n",
       "      <td>2009</td>\n",
       "      <td>64</td>\n",
       "      <td>0</td>\n",
       "      <td>1</td>\n",
       "      <td>2</td>\n",
       "      <td>Null</td>\n",
       "      <td>Dead</td>\n",
       "      <td>0</td>\n",
       "      <td>1</td>\n",
       "      <td>2</td>\n",
       "    </tr>\n",
       "    <tr>\n",
       "      <th>284481</th>\n",
       "      <td>Female</td>\n",
       "      <td>Katsina</td>\n",
       "      <td>Rural</td>\n",
       "      <td>2010-06-10</td>\n",
       "      <td>2010</td>\n",
       "      <td>33</td>\n",
       "      <td>0</td>\n",
       "      <td>1</td>\n",
       "      <td>3</td>\n",
       "      <td>Null</td>\n",
       "      <td>Alive</td>\n",
       "      <td>0</td>\n",
       "      <td>1</td>\n",
       "      <td>0</td>\n",
       "    </tr>\n",
       "    <tr>\n",
       "      <th>284482</th>\n",
       "      <td>Male</td>\n",
       "      <td>Jigawa</td>\n",
       "      <td>Rural</td>\n",
       "      <td>2016-01-11</td>\n",
       "      <td>2016</td>\n",
       "      <td>18</td>\n",
       "      <td>0</td>\n",
       "      <td>1</td>\n",
       "      <td>3</td>\n",
       "      <td>Null</td>\n",
       "      <td>Dead</td>\n",
       "      <td>1</td>\n",
       "      <td>1</td>\n",
       "      <td>3</td>\n",
       "    </tr>\n",
       "    <tr>\n",
       "      <th>284483</th>\n",
       "      <td>Female</td>\n",
       "      <td>Kogi</td>\n",
       "      <td>Urban</td>\n",
       "      <td>2013-08-18</td>\n",
       "      <td>2013</td>\n",
       "      <td>7</td>\n",
       "      <td>1</td>\n",
       "      <td>0</td>\n",
       "      <td>9</td>\n",
       "      <td>Null</td>\n",
       "      <td>Alive</td>\n",
       "      <td>0</td>\n",
       "      <td>1</td>\n",
       "      <td>1</td>\n",
       "    </tr>\n",
       "  </tbody>\n",
       "</table>\n",
       "<p>284484 rows × 14 columns</p>\n",
       "</div>"
      ],
      "text/plain": [
       "        gender        state settlement report_date  report_year  age  \\\n",
       "0       Female       Rivers      Rural  2018-05-15         2018   32   \n",
       "1         Male       Ebonyi      Rural  2017-02-28         2017   32   \n",
       "2       Female         Ogun      Urban  2012-03-02         2012   24   \n",
       "3       Female         Ondo      Rural  2010-05-21         2010   63   \n",
       "4         Male          Oyo      Urban  2017-08-28         2017    9   \n",
       "...        ...          ...        ...         ...          ...  ...   \n",
       "284479  Female  Cross River      Rural  2012-08-24         2012   67   \n",
       "284480  Female        Kwara      Urban  2009-01-19         2009   64   \n",
       "284481  Female      Katsina      Rural  2010-06-10         2010   33   \n",
       "284482    Male       Jigawa      Rural  2016-01-11         2016   18   \n",
       "284483  Female         Kogi      Urban  2013-08-18         2013    7   \n",
       "\n",
       "        child_group  adult_group  disease       serotype health_status  \\\n",
       "0                 0            1        0  null serotype         alive   \n",
       "1                 0            1        4           Null         Alive   \n",
       "2                 0            1        4           Null          Dead   \n",
       "3                 0            1        5           Null         Alive   \n",
       "4                 1            0        7           Null         Alive   \n",
       "...             ...          ...      ...            ...           ...   \n",
       "284479            0            1        2           Null          Dead   \n",
       "284480            0            1        2           Null          Dead   \n",
       "284481            0            1        3           Null         Alive   \n",
       "284482            0            1        3           Null          Dead   \n",
       "284483            1            0        9           Null         Alive   \n",
       "\n",
       "        report_outcome  null_serotype  Age_group  \n",
       "0                    2              1          0  \n",
       "1                    0              1          0  \n",
       "2                    1              1          0  \n",
       "3                    1              1          2  \n",
       "4                    0              1          1  \n",
       "...                ...            ...        ...  \n",
       "284479               0              1          2  \n",
       "284480               0              1          2  \n",
       "284481               0              1          0  \n",
       "284482               1              1          3  \n",
       "284483               0              1          1  \n",
       "\n",
       "[284484 rows x 14 columns]"
      ]
     },
     "execution_count": 147,
     "metadata": {},
     "output_type": "execute_result"
    }
   ],
   "source": [
    "#Droping unneccesary columns for our EDA and modeling\n",
    "data = meni_data1.drop(['id','surname','firstname','middlename','gender_male','age_str','date_of_birth','urban_settlement','meningitis','ebola','marburg_virus','yellow_fever','rubella_mars','malaria','cholera','diarrhoea','measles','viral_haemmorrhaphic_fever','gender_female','rural_settlement','NmA','NmC','NmW','alive','dead','unconfirmed','confirmed'], axis = 'columns')\n",
    "data"
   ]
  },
  {
   "cell_type": "code",
   "execution_count": 148,
   "id": "cc31e0ac",
   "metadata": {},
   "outputs": [
    {
     "name": "stdout",
     "output_type": "stream",
     "text": [
      "<class 'pandas.core.frame.DataFrame'>\n",
      "RangeIndex: 284484 entries, 0 to 284483\n",
      "Data columns (total 14 columns):\n",
      " #   Column          Non-Null Count   Dtype \n",
      "---  ------          --------------   ----- \n",
      " 0   gender          284484 non-null  object\n",
      " 1   state           284484 non-null  object\n",
      " 2   settlement      284484 non-null  object\n",
      " 3   report_date     284484 non-null  object\n",
      " 4   report_year     284484 non-null  int64 \n",
      " 5   age             284484 non-null  int64 \n",
      " 6   child_group     284484 non-null  int64 \n",
      " 7   adult_group     284484 non-null  int64 \n",
      " 8   disease         284484 non-null  int32 \n",
      " 9   serotype        284484 non-null  object\n",
      " 10  health_status   284484 non-null  object\n",
      " 11  report_outcome  284484 non-null  int32 \n",
      " 12  null_serotype   284484 non-null  int64 \n",
      " 13  Age_group       284484 non-null  int32 \n",
      "dtypes: int32(3), int64(5), object(6)\n",
      "memory usage: 27.1+ MB\n"
     ]
    }
   ],
   "source": [
    "#Checking the dataset info\n",
    "data.info()"
   ]
  },
  {
   "cell_type": "code",
   "execution_count": 149,
   "id": "daeb1c7a",
   "metadata": {},
   "outputs": [
    {
     "data": {
      "text/plain": [
       "(284484, 14)"
      ]
     },
     "execution_count": 149,
     "metadata": {},
     "output_type": "execute_result"
    }
   ],
   "source": [
    "#shape of the dataset\n",
    "data.shape"
   ]
  },
  {
   "cell_type": "code",
   "execution_count": 150,
   "id": "8e452d61",
   "metadata": {},
   "outputs": [
    {
     "data": {
      "text/plain": [
       "gender            0\n",
       "state             0\n",
       "settlement        0\n",
       "report_date       0\n",
       "report_year       0\n",
       "age               0\n",
       "child_group       0\n",
       "adult_group       0\n",
       "disease           0\n",
       "serotype          0\n",
       "health_status     0\n",
       "report_outcome    0\n",
       "null_serotype     0\n",
       "Age_group         0\n",
       "dtype: int64"
      ]
     },
     "execution_count": 150,
     "metadata": {},
     "output_type": "execute_result"
    }
   ],
   "source": [
    "#Checking the missing values \n",
    "data.isnull().sum()"
   ]
  },
  {
   "cell_type": "code",
   "execution_count": 151,
   "id": "560b789c",
   "metadata": {},
   "outputs": [
    {
     "data": {
      "text/html": [
       "<div>\n",
       "<style scoped>\n",
       "    .dataframe tbody tr th:only-of-type {\n",
       "        vertical-align: middle;\n",
       "    }\n",
       "\n",
       "    .dataframe tbody tr th {\n",
       "        vertical-align: top;\n",
       "    }\n",
       "\n",
       "    .dataframe thead th {\n",
       "        text-align: right;\n",
       "    }\n",
       "</style>\n",
       "<table border=\"1\" class=\"dataframe\">\n",
       "  <thead>\n",
       "    <tr style=\"text-align: right;\">\n",
       "      <th></th>\n",
       "      <th>report_year</th>\n",
       "      <th>age</th>\n",
       "      <th>child_group</th>\n",
       "      <th>adult_group</th>\n",
       "      <th>disease</th>\n",
       "      <th>report_outcome</th>\n",
       "      <th>null_serotype</th>\n",
       "      <th>Age_group</th>\n",
       "    </tr>\n",
       "  </thead>\n",
       "  <tbody>\n",
       "    <tr>\n",
       "      <th>count</th>\n",
       "      <td>284484.000000</td>\n",
       "      <td>284484.000000</td>\n",
       "      <td>284484.000000</td>\n",
       "      <td>284484.000000</td>\n",
       "      <td>284484.000000</td>\n",
       "      <td>284484.000000</td>\n",
       "      <td>284484.000000</td>\n",
       "      <td>284484.000000</td>\n",
       "    </tr>\n",
       "    <tr>\n",
       "      <th>mean</th>\n",
       "      <td>2013.503097</td>\n",
       "      <td>34.732396</td>\n",
       "      <td>0.291707</td>\n",
       "      <td>0.708293</td>\n",
       "      <td>4.497944</td>\n",
       "      <td>0.501779</td>\n",
       "      <td>0.900304</td>\n",
       "      <td>0.983089</td>\n",
       "    </tr>\n",
       "    <tr>\n",
       "      <th>std</th>\n",
       "      <td>2.871560</td>\n",
       "      <td>22.240912</td>\n",
       "      <td>0.454549</td>\n",
       "      <td>0.454549</td>\n",
       "      <td>2.873498</td>\n",
       "      <td>0.500005</td>\n",
       "      <td>0.299595</td>\n",
       "      <td>1.018789</td>\n",
       "    </tr>\n",
       "    <tr>\n",
       "      <th>min</th>\n",
       "      <td>2009.000000</td>\n",
       "      <td>0.000000</td>\n",
       "      <td>0.000000</td>\n",
       "      <td>0.000000</td>\n",
       "      <td>0.000000</td>\n",
       "      <td>0.000000</td>\n",
       "      <td>0.000000</td>\n",
       "      <td>0.000000</td>\n",
       "    </tr>\n",
       "    <tr>\n",
       "      <th>25%</th>\n",
       "      <td>2011.000000</td>\n",
       "      <td>14.000000</td>\n",
       "      <td>0.000000</td>\n",
       "      <td>0.000000</td>\n",
       "      <td>2.000000</td>\n",
       "      <td>0.000000</td>\n",
       "      <td>1.000000</td>\n",
       "      <td>0.000000</td>\n",
       "    </tr>\n",
       "    <tr>\n",
       "      <th>50%</th>\n",
       "      <td>2013.000000</td>\n",
       "      <td>34.000000</td>\n",
       "      <td>0.000000</td>\n",
       "      <td>1.000000</td>\n",
       "      <td>4.000000</td>\n",
       "      <td>1.000000</td>\n",
       "      <td>1.000000</td>\n",
       "      <td>1.000000</td>\n",
       "    </tr>\n",
       "    <tr>\n",
       "      <th>75%</th>\n",
       "      <td>2016.000000</td>\n",
       "      <td>54.000000</td>\n",
       "      <td>1.000000</td>\n",
       "      <td>1.000000</td>\n",
       "      <td>7.000000</td>\n",
       "      <td>1.000000</td>\n",
       "      <td>1.000000</td>\n",
       "      <td>2.000000</td>\n",
       "    </tr>\n",
       "    <tr>\n",
       "      <th>max</th>\n",
       "      <td>2018.000000</td>\n",
       "      <td>78.000000</td>\n",
       "      <td>1.000000</td>\n",
       "      <td>1.000000</td>\n",
       "      <td>9.000000</td>\n",
       "      <td>2.000000</td>\n",
       "      <td>1.000000</td>\n",
       "      <td>3.000000</td>\n",
       "    </tr>\n",
       "  </tbody>\n",
       "</table>\n",
       "</div>"
      ],
      "text/plain": [
       "         report_year            age    child_group    adult_group  \\\n",
       "count  284484.000000  284484.000000  284484.000000  284484.000000   \n",
       "mean     2013.503097      34.732396       0.291707       0.708293   \n",
       "std         2.871560      22.240912       0.454549       0.454549   \n",
       "min      2009.000000       0.000000       0.000000       0.000000   \n",
       "25%      2011.000000      14.000000       0.000000       0.000000   \n",
       "50%      2013.000000      34.000000       0.000000       1.000000   \n",
       "75%      2016.000000      54.000000       1.000000       1.000000   \n",
       "max      2018.000000      78.000000       1.000000       1.000000   \n",
       "\n",
       "             disease  report_outcome  null_serotype      Age_group  \n",
       "count  284484.000000   284484.000000  284484.000000  284484.000000  \n",
       "mean        4.497944        0.501779       0.900304       0.983089  \n",
       "std         2.873498        0.500005       0.299595       1.018789  \n",
       "min         0.000000        0.000000       0.000000       0.000000  \n",
       "25%         2.000000        0.000000       1.000000       0.000000  \n",
       "50%         4.000000        1.000000       1.000000       1.000000  \n",
       "75%         7.000000        1.000000       1.000000       2.000000  \n",
       "max         9.000000        2.000000       1.000000       3.000000  "
      ]
     },
     "execution_count": 151,
     "metadata": {},
     "output_type": "execute_result"
    }
   ],
   "source": [
    "#Describing the data to get the statistics of the dataset\n",
    "data.describe()"
   ]
  },
  {
   "cell_type": "code",
   "execution_count": 152,
   "id": "463be998",
   "metadata": {},
   "outputs": [
    {
     "data": {
      "text/plain": [
       "0         False\n",
       "1         False\n",
       "2         False\n",
       "3         False\n",
       "4         False\n",
       "          ...  \n",
       "284479    False\n",
       "284480    False\n",
       "284481    False\n",
       "284482    False\n",
       "284483    False\n",
       "Length: 284484, dtype: bool"
      ]
     },
     "execution_count": 152,
     "metadata": {},
     "output_type": "execute_result"
    }
   ],
   "source": [
    "#Checking for duplicate value\n",
    "data.duplicated(keep = 'first')"
   ]
  },
  {
   "cell_type": "code",
   "execution_count": 153,
   "id": "a3a93fad",
   "metadata": {},
   "outputs": [
    {
     "data": {
      "text/html": [
       "<div>\n",
       "<style scoped>\n",
       "    .dataframe tbody tr th:only-of-type {\n",
       "        vertical-align: middle;\n",
       "    }\n",
       "\n",
       "    .dataframe tbody tr th {\n",
       "        vertical-align: top;\n",
       "    }\n",
       "\n",
       "    .dataframe thead th {\n",
       "        text-align: right;\n",
       "    }\n",
       "</style>\n",
       "<table border=\"1\" class=\"dataframe\">\n",
       "  <thead>\n",
       "    <tr style=\"text-align: right;\">\n",
       "      <th></th>\n",
       "      <th>report_date</th>\n",
       "    </tr>\n",
       "  </thead>\n",
       "  <tbody>\n",
       "    <tr>\n",
       "      <th>0</th>\n",
       "      <td>2018-05-15</td>\n",
       "    </tr>\n",
       "    <tr>\n",
       "      <th>1</th>\n",
       "      <td>2017-02-28</td>\n",
       "    </tr>\n",
       "    <tr>\n",
       "      <th>2</th>\n",
       "      <td>2012-03-02</td>\n",
       "    </tr>\n",
       "    <tr>\n",
       "      <th>3</th>\n",
       "      <td>2010-05-21</td>\n",
       "    </tr>\n",
       "    <tr>\n",
       "      <th>4</th>\n",
       "      <td>2017-08-28</td>\n",
       "    </tr>\n",
       "    <tr>\n",
       "      <th>...</th>\n",
       "      <td>...</td>\n",
       "    </tr>\n",
       "    <tr>\n",
       "      <th>284479</th>\n",
       "      <td>2012-08-24</td>\n",
       "    </tr>\n",
       "    <tr>\n",
       "      <th>284480</th>\n",
       "      <td>2009-01-19</td>\n",
       "    </tr>\n",
       "    <tr>\n",
       "      <th>284481</th>\n",
       "      <td>2010-06-10</td>\n",
       "    </tr>\n",
       "    <tr>\n",
       "      <th>284482</th>\n",
       "      <td>2016-01-11</td>\n",
       "    </tr>\n",
       "    <tr>\n",
       "      <th>284483</th>\n",
       "      <td>2013-08-18</td>\n",
       "    </tr>\n",
       "  </tbody>\n",
       "</table>\n",
       "<p>284484 rows × 1 columns</p>\n",
       "</div>"
      ],
      "text/plain": [
       "       report_date\n",
       "0       2018-05-15\n",
       "1       2017-02-28\n",
       "2       2012-03-02\n",
       "3       2010-05-21\n",
       "4       2017-08-28\n",
       "...            ...\n",
       "284479  2012-08-24\n",
       "284480  2009-01-19\n",
       "284481  2010-06-10\n",
       "284482  2016-01-11\n",
       "284483  2013-08-18\n",
       "\n",
       "[284484 rows x 1 columns]"
      ]
     },
     "execution_count": 153,
     "metadata": {},
     "output_type": "execute_result"
    }
   ],
   "source": [
    "meni_data1[['report_date']]"
   ]
  },
  {
   "cell_type": "code",
   "execution_count": 154,
   "id": "fc8890c3",
   "metadata": {},
   "outputs": [
    {
     "data": {
      "text/plain": [
       "disease\n",
       "0          28589\n",
       "1          28550\n",
       "7          28539\n",
       "3          28535\n",
       "5          28471\n",
       "4          28430\n",
       "9          28428\n",
       "8          28401\n",
       "6          28362\n",
       "2          28179\n",
       "dtype: int64"
      ]
     },
     "execution_count": 154,
     "metadata": {},
     "output_type": "execute_result"
    }
   ],
   "source": [
    "# checking for the amount of cases in each disease group\n",
    "data[['disease']].value_counts()"
   ]
  },
  {
   "cell_type": "code",
   "execution_count": 155,
   "id": "6e1796ab",
   "metadata": {},
   "outputs": [
    {
     "data": {
      "text/plain": [
       "gender  disease\n",
       "Female  5          14892\n",
       "        7          14888\n",
       "        1          14828\n",
       "        9          14776\n",
       "        8          14766\n",
       "        4          14714\n",
       "        6          14691\n",
       "        0          14673\n",
       "        3          14630\n",
       "        2          14414\n",
       "Male    0          13916\n",
       "        3          13905\n",
       "        2          13765\n",
       "        1          13722\n",
       "        4          13716\n",
       "        6          13671\n",
       "        9          13652\n",
       "        7          13651\n",
       "        8          13635\n",
       "        5          13579\n",
       "dtype: int64"
      ]
     },
     "execution_count": 155,
     "metadata": {},
     "output_type": "execute_result"
    }
   ],
   "source": [
    "# checking for numbers of cases with respect to gender(female and male)\n",
    "g_disease = data.groupby('gender')[['disease']].value_counts().sort_values(ascending = False).head(30)\n",
    "g_disease\n"
   ]
  },
  {
   "cell_type": "code",
   "execution_count": 12,
   "id": "aff0628a",
   "metadata": {},
   "outputs": [
    {
     "data": {
      "text/html": [
       "<div>\n",
       "<style scoped>\n",
       "    .dataframe tbody tr th:only-of-type {\n",
       "        vertical-align: middle;\n",
       "    }\n",
       "\n",
       "    .dataframe tbody tr th {\n",
       "        vertical-align: top;\n",
       "    }\n",
       "\n",
       "    .dataframe thead th {\n",
       "        text-align: right;\n",
       "    }\n",
       "</style>\n",
       "<table border=\"1\" class=\"dataframe\">\n",
       "  <thead>\n",
       "    <tr style=\"text-align: right;\">\n",
       "      <th>disease</th>\n",
       "      <th>Cholera</th>\n",
       "      <th>Diarrhoea</th>\n",
       "      <th>Ebola</th>\n",
       "      <th>Malaria</th>\n",
       "      <th>Marburg Virus</th>\n",
       "      <th>Measles</th>\n",
       "      <th>Meningitis</th>\n",
       "      <th>Rubella Mars</th>\n",
       "      <th>Viral Haemmorrhaphic Fever</th>\n",
       "      <th>Yellow Fever</th>\n",
       "    </tr>\n",
       "    <tr>\n",
       "      <th>gender</th>\n",
       "      <th></th>\n",
       "      <th></th>\n",
       "      <th></th>\n",
       "      <th></th>\n",
       "      <th></th>\n",
       "      <th></th>\n",
       "      <th></th>\n",
       "      <th></th>\n",
       "      <th></th>\n",
       "      <th></th>\n",
       "    </tr>\n",
       "  </thead>\n",
       "  <tbody>\n",
       "    <tr>\n",
       "      <th>Female</th>\n",
       "      <td>14673</td>\n",
       "      <td>14828</td>\n",
       "      <td>14414</td>\n",
       "      <td>14630</td>\n",
       "      <td>14714</td>\n",
       "      <td>14892</td>\n",
       "      <td>14691</td>\n",
       "      <td>14888</td>\n",
       "      <td>14766</td>\n",
       "      <td>14776</td>\n",
       "    </tr>\n",
       "    <tr>\n",
       "      <th>Male</th>\n",
       "      <td>13916</td>\n",
       "      <td>13722</td>\n",
       "      <td>13765</td>\n",
       "      <td>13905</td>\n",
       "      <td>13716</td>\n",
       "      <td>13579</td>\n",
       "      <td>13671</td>\n",
       "      <td>13651</td>\n",
       "      <td>13635</td>\n",
       "      <td>13652</td>\n",
       "    </tr>\n",
       "  </tbody>\n",
       "</table>\n",
       "</div>"
      ],
      "text/plain": [
       "disease  Cholera  Diarrhoea  Ebola  Malaria  Marburg Virus  Measles  \\\n",
       "gender                                                                \n",
       "Female     14673      14828  14414    14630          14714    14892   \n",
       "Male       13916      13722  13765    13905          13716    13579   \n",
       "\n",
       "disease  Meningitis  Rubella Mars  Viral Haemmorrhaphic Fever  Yellow Fever  \n",
       "gender                                                                       \n",
       "Female        14691         14888                       14766         14776  \n",
       "Male          13671         13651                       13635         13652  "
      ]
     },
     "execution_count": 12,
     "metadata": {},
     "output_type": "execute_result"
    }
   ],
   "source": [
    "# summary of cases(disease) with respect to gender(female and male)\n",
    "gender_d =data.groupby(\"gender\")[\"disease\"].value_counts().unstack().fillna(0)\n",
    "gender_d"
   ]
  },
  {
   "cell_type": "code",
   "execution_count": 13,
   "id": "38a9f0bb",
   "metadata": {},
   "outputs": [
    {
     "data": {
      "text/plain": [
       "Female    0.52\n",
       "Male      0.48\n",
       "Name: gender, dtype: float64"
      ]
     },
     "execution_count": 13,
     "metadata": {},
     "output_type": "execute_result"
    }
   ],
   "source": [
    "#percentage of the male and female genders \n",
    "percent_gender = data['gender'].value_counts(normalize = True)\n",
    "percent_gender.round(2)"
   ]
  },
  {
   "cell_type": "markdown",
   "id": "e6664b55",
   "metadata": {},
   "source": [
    "The total percentge of Female is 52% and male is 48%"
   ]
  },
  {
   "cell_type": "code",
   "execution_count": 156,
   "id": "edd63042",
   "metadata": {},
   "outputs": [
    {
     "data": {
      "text/plain": [
       "Female    147272\n",
       "Male      137212\n",
       "Name: gender, dtype: int64"
      ]
     },
     "execution_count": 156,
     "metadata": {},
     "output_type": "execute_result"
    }
   ],
   "source": [
    "#counts of gender\n",
    "data.gender.value_counts()"
   ]
  },
  {
   "cell_type": "code",
   "execution_count": 139,
   "id": "5a667420",
   "metadata": {},
   "outputs": [
    {
     "data": {
      "image/png": "[encoded data removed]",
      "text/plain": [
       "<Figure size 1080x720 with 1 Axes>"
      ]
     },
     "metadata": {
      "needs_background": "light"
     },
     "output_type": "display_data"
    }
   ],
   "source": [
    "# visualization of cases with respect to gender(female and male)\n",
    "gender_d.plot(kind ='bar', xlabel = 'disease', ylabel = 'gender',\n",
    "              title = ' Disease cases with respect to gender(female and male)',\n",
    "              figsize =(15,10), stacked = True, color = ['grey', 'blue', 'skyblue', 'k', 'royalblue', 'silver',\n",
    "                                                     'powderblue', \"indigo\", \"lavender\"])\n",
    "plt.legend();"
   ]
  },
  {
   "cell_type": "markdown",
   "id": "8d1c98ae",
   "metadata": {},
   "source": [
    " Females have more numbers of disease cases than males but melease is more predominant in the female with the case 4940 while for male marburg virus is more predominate with a case of 4641\n",
    " From the dataset provided, it is shown that females have more population than males and also have more distribution of diseases. However, we cannot ascertain that females are mostly affected by the diseases because the dataset is not showing the equal distribution of population among the genders.\n",
    " "
   ]
  },
  {
   "cell_type": "markdown",
   "id": "6bc05e32",
   "metadata": {},
   "source": [
    "###  1. Comparing different diseases againt age groups? If Children or Adults are more affected based on a particular diseases."
   ]
  },
  {
   "cell_type": "code",
   "execution_count": 145,
   "id": "680ccad1",
   "metadata": {},
   "outputs": [
    {
     "data": {
      "text/html": [
       "<div>\n",
       "<style scoped>\n",
       "    .dataframe tbody tr th:only-of-type {\n",
       "        vertical-align: middle;\n",
       "    }\n",
       "\n",
       "    .dataframe tbody tr th {\n",
       "        vertical-align: top;\n",
       "    }\n",
       "\n",
       "    .dataframe thead th {\n",
       "        text-align: right;\n",
       "    }\n",
       "</style>\n",
       "<table border=\"1\" class=\"dataframe\">\n",
       "  <thead>\n",
       "    <tr style=\"text-align: right;\">\n",
       "      <th>disease</th>\n",
       "      <th>Cholera</th>\n",
       "      <th>Diarrhoea</th>\n",
       "      <th>Ebola</th>\n",
       "      <th>Malaria</th>\n",
       "      <th>Marburg Virus</th>\n",
       "      <th>Measles</th>\n",
       "      <th>Meningitis</th>\n",
       "      <th>Rubella Mars</th>\n",
       "      <th>Viral Haemmorrhaphic Fever</th>\n",
       "      <th>Yellow Fever</th>\n",
       "    </tr>\n",
       "    <tr>\n",
       "      <th>age</th>\n",
       "      <th></th>\n",
       "      <th></th>\n",
       "      <th></th>\n",
       "      <th></th>\n",
       "      <th></th>\n",
       "      <th></th>\n",
       "      <th></th>\n",
       "      <th></th>\n",
       "      <th></th>\n",
       "      <th></th>\n",
       "    </tr>\n",
       "  </thead>\n",
       "  <tbody>\n",
       "    <tr>\n",
       "      <th>0</th>\n",
       "      <td>10</td>\n",
       "      <td>3</td>\n",
       "      <td>11</td>\n",
       "      <td>7</td>\n",
       "      <td>2</td>\n",
       "      <td>4</td>\n",
       "      <td>5</td>\n",
       "      <td>10</td>\n",
       "      <td>14</td>\n",
       "      <td>11</td>\n",
       "    </tr>\n",
       "    <tr>\n",
       "      <th>1</th>\n",
       "      <td>452</td>\n",
       "      <td>417</td>\n",
       "      <td>410</td>\n",
       "      <td>414</td>\n",
       "      <td>443</td>\n",
       "      <td>451</td>\n",
       "      <td>455</td>\n",
       "      <td>412</td>\n",
       "      <td>382</td>\n",
       "      <td>440</td>\n",
       "    </tr>\n",
       "    <tr>\n",
       "      <th>2</th>\n",
       "      <td>701</td>\n",
       "      <td>767</td>\n",
       "      <td>738</td>\n",
       "      <td>747</td>\n",
       "      <td>775</td>\n",
       "      <td>752</td>\n",
       "      <td>755</td>\n",
       "      <td>718</td>\n",
       "      <td>775</td>\n",
       "      <td>764</td>\n",
       "    </tr>\n",
       "    <tr>\n",
       "      <th>3</th>\n",
       "      <td>728</td>\n",
       "      <td>739</td>\n",
       "      <td>661</td>\n",
       "      <td>698</td>\n",
       "      <td>669</td>\n",
       "      <td>669</td>\n",
       "      <td>677</td>\n",
       "      <td>678</td>\n",
       "      <td>690</td>\n",
       "      <td>726</td>\n",
       "    </tr>\n",
       "    <tr>\n",
       "      <th>4</th>\n",
       "      <td>657</td>\n",
       "      <td>702</td>\n",
       "      <td>674</td>\n",
       "      <td>623</td>\n",
       "      <td>686</td>\n",
       "      <td>638</td>\n",
       "      <td>642</td>\n",
       "      <td>688</td>\n",
       "      <td>650</td>\n",
       "      <td>668</td>\n",
       "    </tr>\n",
       "    <tr>\n",
       "      <th>5</th>\n",
       "      <td>635</td>\n",
       "      <td>657</td>\n",
       "      <td>621</td>\n",
       "      <td>653</td>\n",
       "      <td>635</td>\n",
       "      <td>613</td>\n",
       "      <td>635</td>\n",
       "      <td>632</td>\n",
       "      <td>643</td>\n",
       "      <td>622</td>\n",
       "    </tr>\n",
       "    <tr>\n",
       "      <th>6</th>\n",
       "      <td>583</td>\n",
       "      <td>576</td>\n",
       "      <td>523</td>\n",
       "      <td>560</td>\n",
       "      <td>579</td>\n",
       "      <td>578</td>\n",
       "      <td>598</td>\n",
       "      <td>609</td>\n",
       "      <td>559</td>\n",
       "      <td>570</td>\n",
       "    </tr>\n",
       "    <tr>\n",
       "      <th>7</th>\n",
       "      <td>587</td>\n",
       "      <td>536</td>\n",
       "      <td>548</td>\n",
       "      <td>526</td>\n",
       "      <td>534</td>\n",
       "      <td>519</td>\n",
       "      <td>541</td>\n",
       "      <td>589</td>\n",
       "      <td>587</td>\n",
       "      <td>554</td>\n",
       "    </tr>\n",
       "    <tr>\n",
       "      <th>8</th>\n",
       "      <td>472</td>\n",
       "      <td>516</td>\n",
       "      <td>522</td>\n",
       "      <td>482</td>\n",
       "      <td>532</td>\n",
       "      <td>519</td>\n",
       "      <td>513</td>\n",
       "      <td>532</td>\n",
       "      <td>500</td>\n",
       "      <td>501</td>\n",
       "    </tr>\n",
       "    <tr>\n",
       "      <th>9</th>\n",
       "      <td>476</td>\n",
       "      <td>476</td>\n",
       "      <td>485</td>\n",
       "      <td>489</td>\n",
       "      <td>470</td>\n",
       "      <td>433</td>\n",
       "      <td>497</td>\n",
       "      <td>462</td>\n",
       "      <td>517</td>\n",
       "      <td>484</td>\n",
       "    </tr>\n",
       "  </tbody>\n",
       "</table>\n",
       "</div>"
      ],
      "text/plain": [
       "disease  Cholera  Diarrhoea  Ebola  Malaria  Marburg Virus  Measles  \\\n",
       "age                                                                   \n",
       "0             10          3     11        7              2        4   \n",
       "1            452        417    410      414            443      451   \n",
       "2            701        767    738      747            775      752   \n",
       "3            728        739    661      698            669      669   \n",
       "4            657        702    674      623            686      638   \n",
       "5            635        657    621      653            635      613   \n",
       "6            583        576    523      560            579      578   \n",
       "7            587        536    548      526            534      519   \n",
       "8            472        516    522      482            532      519   \n",
       "9            476        476    485      489            470      433   \n",
       "\n",
       "disease  Meningitis  Rubella Mars  Viral Haemmorrhaphic Fever  Yellow Fever  \n",
       "age                                                                          \n",
       "0                 5            10                          14            11  \n",
       "1               455           412                         382           440  \n",
       "2               755           718                         775           764  \n",
       "3               677           678                         690           726  \n",
       "4               642           688                         650           668  \n",
       "5               635           632                         643           622  \n",
       "6               598           609                         559           570  \n",
       "7               541           589                         587           554  \n",
       "8               513           532                         500           501  \n",
       "9               497           462                         517           484  "
      ]
     },
     "execution_count": 145,
     "metadata": {},
     "output_type": "execute_result"
    }
   ],
   "source": [
    "# disease base on all age group (unstacking)\n",
    "gender_da =data.groupby(\"age\")[\"disease\"].value_counts().unstack().fillna(0)\n",
    "gender_da.head(10)"
   ]
  },
  {
   "cell_type": "code",
   "execution_count": 133,
   "id": "a8e74b04",
   "metadata": {},
   "outputs": [
    {
     "data": {
      "text/plain": [
       "child_group  adult_group  disease                   \n",
       "0            1            Malaria                       20316\n",
       "                          Measles                       20283\n",
       "                          Cholera                       20229\n",
       "                          Rubella Mars                  20184\n",
       "                          Diarrhoea                     20136\n",
       "                          Yellow Fever                  20136\n",
       "                          Marburg Virus                 20124\n",
       "                          Viral Haemmorrhaphic Fever    20069\n",
       "                          Meningitis                    20050\n",
       "                          Ebola                         19971\n",
       "1            0            Diarrhoea                      8414\n",
       "                          Cholera                        8360\n",
       "                          Rubella Mars                   8355\n",
       "                          Viral Haemmorrhaphic Fever     8332\n",
       "                          Meningitis                     8312\n",
       "                          Marburg Virus                  8306\n",
       "                          Yellow Fever                   8292\n",
       "                          Malaria                        8219\n",
       "                          Ebola                          8208\n",
       "                          Measles                        8188\n",
       "Name: disease, dtype: int64"
      ]
     },
     "execution_count": 133,
     "metadata": {},
     "output_type": "execute_result"
    }
   ],
   "source": [
    "disease_age = data.groupby(['child_group','adult_group'])['disease'].value_counts().sort_values(ascending = False)\n",
    "disease_age"
   ]
  },
  {
   "cell_type": "code",
   "execution_count": 134,
   "id": "aeb05204",
   "metadata": {},
   "outputs": [
    {
     "data": {
      "text/plain": [
       "<AxesSubplot:xlabel='disease', ylabel='count'>"
      ]
     },
     "execution_count": 134,
     "metadata": {},
     "output_type": "execute_result"
    },
    {
     "data": {
      "image/png": "[encoded data removed]",
      "text/plain": [
       "<Figure size 1440x1080 with 1 Axes>"
      ]
     },
     "metadata": {
      "needs_background": "light"
     },
     "output_type": "display_data"
    }
   ],
   "source": [
    "#Let's visualize the columns by plotting the charts\n",
    "plt.figure(figsize =(20, 15))\n",
    "sns.countplot(x = 'disease', hue = 'child_group', data = data, palette = 'Blues_r')"
   ]
  },
  {
   "cell_type": "code",
   "execution_count": 135,
   "id": "dc1e2934",
   "metadata": {},
   "outputs": [
    {
     "data": {
      "image/png": "[encoded data removed]",
      "text/plain": [
       "<Figure size 1440x1080 with 1 Axes>"
      ]
     },
     "metadata": {
      "needs_background": "light"
     },
     "output_type": "display_data"
    }
   ],
   "source": [
    "#Let's visualize the columns by plotting the charts\n",
    "plt.figure(figsize =(20, 15))\n",
    "sns.countplot(x = 'disease', hue = 'adult_group', data = data, palette = 'Blues_r');\n",
    "\n"
   ]
  },
  {
   "cell_type": "markdown",
   "id": "c00f7a48",
   "metadata": {},
   "source": [
    "The two charts above shows that the adult group is more affected across the various diseases and \n",
    "they are mostly affected by malaria with counts of 20,316 adults who were affected by malaria, followed by 20,283 affected \n",
    "by measles and 20,229 affected by cholera."
   ]
  },
  {
   "cell_type": "markdown",
   "id": "5edabc9c",
   "metadata": {},
   "source": [
    "### 2.  Which disease is the most prevalent against settlements?"
   ]
  },
  {
   "cell_type": "code",
   "execution_count": 136,
   "id": "2f6cc7da",
   "metadata": {},
   "outputs": [
    {
     "data": {
      "text/html": [
       "<div>\n",
       "<style scoped>\n",
       "    .dataframe tbody tr th:only-of-type {\n",
       "        vertical-align: middle;\n",
       "    }\n",
       "\n",
       "    .dataframe tbody tr th {\n",
       "        vertical-align: top;\n",
       "    }\n",
       "\n",
       "    .dataframe thead th {\n",
       "        text-align: right;\n",
       "    }\n",
       "</style>\n",
       "<table border=\"1\" class=\"dataframe\">\n",
       "  <thead>\n",
       "    <tr style=\"text-align: right;\">\n",
       "      <th>disease</th>\n",
       "      <th>Cholera</th>\n",
       "      <th>Diarrhoea</th>\n",
       "      <th>Ebola</th>\n",
       "      <th>Malaria</th>\n",
       "      <th>Marburg Virus</th>\n",
       "      <th>Measles</th>\n",
       "      <th>Meningitis</th>\n",
       "      <th>Rubella Mars</th>\n",
       "      <th>Viral Haemmorrhaphic Fever</th>\n",
       "      <th>Yellow Fever</th>\n",
       "    </tr>\n",
       "    <tr>\n",
       "      <th>settlement</th>\n",
       "      <th></th>\n",
       "      <th></th>\n",
       "      <th></th>\n",
       "      <th></th>\n",
       "      <th></th>\n",
       "      <th></th>\n",
       "      <th></th>\n",
       "      <th></th>\n",
       "      <th></th>\n",
       "      <th></th>\n",
       "    </tr>\n",
       "  </thead>\n",
       "  <tbody>\n",
       "    <tr>\n",
       "      <th>Rural</th>\n",
       "      <td>14307</td>\n",
       "      <td>14282</td>\n",
       "      <td>14161</td>\n",
       "      <td>14204</td>\n",
       "      <td>14219</td>\n",
       "      <td>14259</td>\n",
       "      <td>14197</td>\n",
       "      <td>14437</td>\n",
       "      <td>14180</td>\n",
       "      <td>14317</td>\n",
       "    </tr>\n",
       "    <tr>\n",
       "      <th>Urban</th>\n",
       "      <td>14282</td>\n",
       "      <td>14268</td>\n",
       "      <td>14018</td>\n",
       "      <td>14331</td>\n",
       "      <td>14211</td>\n",
       "      <td>14212</td>\n",
       "      <td>14165</td>\n",
       "      <td>14102</td>\n",
       "      <td>14221</td>\n",
       "      <td>14111</td>\n",
       "    </tr>\n",
       "  </tbody>\n",
       "</table>\n",
       "</div>"
      ],
      "text/plain": [
       "disease     Cholera  Diarrhoea  Ebola  Malaria  Marburg Virus  Measles  \\\n",
       "settlement                                                               \n",
       "Rural         14307      14282  14161    14204          14219    14259   \n",
       "Urban         14282      14268  14018    14331          14211    14212   \n",
       "\n",
       "disease     Meningitis  Rubella Mars  Viral Haemmorrhaphic Fever  Yellow Fever  \n",
       "settlement                                                                      \n",
       "Rural            14197         14437                       14180         14317  \n",
       "Urban            14165         14102                       14221         14111  "
      ]
     },
     "execution_count": 136,
     "metadata": {},
     "output_type": "execute_result"
    }
   ],
   "source": [
    "# disease prevailant in both urban and rural setllements \n",
    "settle_d =data.groupby(\"settlement\")[\"disease\"].value_counts().unstack().fillna(0)\n",
    "settle_d"
   ]
  },
  {
   "cell_type": "code",
   "execution_count": 138,
   "id": "2fced7a6",
   "metadata": {},
   "outputs": [
    {
     "data": {
      "image/png": "[encoded data removed]",
      "text/plain": [
       "<Figure size 1080x720 with 1 Axes>"
      ]
     },
     "metadata": {
      "needs_background": "light"
     },
     "output_type": "display_data"
    }
   ],
   "source": [
    "# visualization of disease prevailant in both urban and rural setllements \n",
    "plot = settle_d.plot.bar(figsize =(15,10), color = ['grey', 'blue', 'skyblue', 'k', 'royalblue', 'purple', 'indigo', 'silver',\n",
    "                                                    'lavender', 'c'])\n",
    "plt.xlabel('disease')\n",
    "plt.ylabel('settlemnts')\n",
    "plt.title('disease in setlements')\n",
    "plt.show();"
   ]
  },
  {
   "cell_type": "markdown",
   "id": "0b4aaf0e",
   "metadata": {},
   "source": [
    "For urban settlement we have more case of malaria with a recorded case of 4768. While for Rural settlement we have marburg virus with a prevalent case of 4829.From the visualization of the dataset, it depicts that the diseases have no significant effects based on their settlements. That is to say that irrespective of your settlement whether rural or urban there's little or equal chances of being infected by the diseases."
   ]
  },
  {
   "cell_type": "markdown",
   "id": "5598ae92",
   "metadata": {},
   "source": [
    "### 3.Mortality rate between genders"
   ]
  },
  {
   "cell_type": "code",
   "execution_count": 27,
   "id": "cf8d5bef",
   "metadata": {},
   "outputs": [
    {
     "data": {
      "text/plain": [
       "array(['Alive', 'Dead'], dtype=object)"
      ]
     },
     "execution_count": 27,
     "metadata": {},
     "output_type": "execute_result"
    }
   ],
   "source": [
    "#Replacing 'alive' row to 'Alive'\n",
    "data['health_status'] =data['health_status'].str.replace (\"alive\", \"Alive\")\n",
    "data['health_status'].unique()\n",
    "    "
   ]
  },
  {
   "cell_type": "code",
   "execution_count": 28,
   "id": "370bc584",
   "metadata": {},
   "outputs": [
    {
     "data": {
      "text/plain": [
       "gender  health_status\n",
       "Female  Dead             73810\n",
       "        Alive            73462\n",
       "Male    Alive            68733\n",
       "        Dead             68479\n",
       "Name: health_status, dtype: int64"
      ]
     },
     "execution_count": 28,
     "metadata": {},
     "output_type": "execute_result"
    }
   ],
   "source": [
    "#Value counts of genders against health status\n",
    "Morta_gen = data.groupby('gender')['health_status'].value_counts()\n",
    "Morta_gen"
   ]
  },
  {
   "cell_type": "code",
   "execution_count": 29,
   "id": "9f6bf368",
   "metadata": {},
   "outputs": [
    {
     "data": {
      "text/plain": [
       "Text(0.5, 1.0, 'Mortality range against gender')"
      ]
     },
     "execution_count": 29,
     "metadata": {},
     "output_type": "execute_result"
    },
    {
     "data": {
      "image/png": "[encoded data removed]",
      "text/plain": [
       "<Figure size 1080x576 with 1 Axes>"
      ]
     },
     "metadata": {
      "needs_background": "light"
     },
     "output_type": "display_data"
    }
   ],
   "source": [
    "#Visualizing the results of the two columns\n",
    "plt.figure(figsize=(15, 8))\n",
    "sns.countplot(x = 'gender', hue ='health_status', data = data, palette = 'Blues_r')\n",
    "plt.xlabel('Gender')\n",
    "plt.ylabel('Health_status count')\n",
    "plt.title('Mortality range against gender')"
   ]
  },
  {
   "cell_type": "markdown",
   "id": "42cfc123",
   "metadata": {},
   "source": [
    "The chart shows that females that were dead are more than males that died. There's is a higher population of female on this dataset and alive females are slightly lower than the dead ones with 448 difference between alive and dead. "
   ]
  },
  {
   "cell_type": "markdown",
   "id": "08cbd335",
   "metadata": {},
   "source": [
    "### 4.Mortality rate btween rural and urban settlements"
   ]
  },
  {
   "cell_type": "code",
   "execution_count": 30,
   "id": "e62d50c4",
   "metadata": {},
   "outputs": [
    {
     "data": {
      "text/html": [
       "<div>\n",
       "<style scoped>\n",
       "    .dataframe tbody tr th:only-of-type {\n",
       "        vertical-align: middle;\n",
       "    }\n",
       "\n",
       "    .dataframe tbody tr th {\n",
       "        vertical-align: top;\n",
       "    }\n",
       "\n",
       "    .dataframe thead th {\n",
       "        text-align: right;\n",
       "    }\n",
       "</style>\n",
       "<table border=\"1\" class=\"dataframe\">\n",
       "  <thead>\n",
       "    <tr style=\"text-align: right;\">\n",
       "      <th>health_status</th>\n",
       "      <th>Alive</th>\n",
       "      <th>Dead</th>\n",
       "    </tr>\n",
       "    <tr>\n",
       "      <th>settlement</th>\n",
       "      <th></th>\n",
       "      <th></th>\n",
       "    </tr>\n",
       "  </thead>\n",
       "  <tbody>\n",
       "    <tr>\n",
       "      <th>Rural</th>\n",
       "      <td>0.249575</td>\n",
       "      <td>0.251554</td>\n",
       "    </tr>\n",
       "    <tr>\n",
       "      <th>Urban</th>\n",
       "      <td>0.250260</td>\n",
       "      <td>0.248612</td>\n",
       "    </tr>\n",
       "  </tbody>\n",
       "</table>\n",
       "</div>"
      ],
      "text/plain": [
       "health_status     Alive      Dead\n",
       "settlement                       \n",
       "Rural          0.249575  0.251554\n",
       "Urban          0.250260  0.248612"
      ]
     },
     "execution_count": 30,
     "metadata": {},
     "output_type": "execute_result"
    }
   ],
   "source": [
    "Morta_settlement = pd.crosstab(data['settlement'], data['health_status'], normalize = True)\n",
    "Morta_settlement"
   ]
  },
  {
   "cell_type": "code",
   "execution_count": 31,
   "id": "68dff2b4",
   "metadata": {},
   "outputs": [
    {
     "data": {
      "image/png": "[encoded data removed]",
      "text/plain": [
       "<Figure size 864x360 with 1 Axes>"
      ]
     },
     "metadata": {
      "needs_background": "light"
     },
     "output_type": "display_data"
    }
   ],
   "source": [
    "plt.figure(figsize =(12, 5))\n",
    "sns.countplot(x = 'settlement', data =data, hue = 'health_status', palette = 'Blues_r')\n",
    "plt.xlabel('Settlement')\n",
    "plt.ylabel('Counts of health_status')\n",
    "plt.title('Mortality range against settlement');"
   ]
  },
  {
   "cell_type": "markdown",
   "id": "70a0eb82",
   "metadata": {},
   "source": [
    "The chart above shows that there's slight higher mortality rate in rural settlements than in urban settlement which could be because of lack of basic health facilities and shortage of medical practitioners.  \n",
    "\n",
    "Recommedation: We recommend that more public workers should be sent to rural settlements."
   ]
  },
  {
   "cell_type": "markdown",
   "id": "c8f2f8f9",
   "metadata": {},
   "source": [
    "### 5. Disease across different years"
   ]
  },
  {
   "cell_type": "code",
   "execution_count": 32,
   "id": "a4ccba1e",
   "metadata": {},
   "outputs": [
    {
     "data": {
      "image/png": "[encoded data removed]",
      "text/plain": [
       "<Figure size 432x288 with 1 Axes>"
      ]
     },
     "metadata": {
      "needs_background": "light"
     },
     "output_type": "display_data"
    },
    {
     "data": {
      "text/plain": [
       "<Figure size 1080x576 with 0 Axes>"
      ]
     },
     "metadata": {},
     "output_type": "display_data"
    }
   ],
   "source": [
    "#Using crosstab to visualize different diseases across the years \n",
    "pd.crosstab(data.report_year, data.disease).plot(kind='bar'),\n",
    "plt.figure(figsize=(15,8));\n"
   ]
  },
  {
   "cell_type": "markdown",
   "id": "cf1a1b7b",
   "metadata": {},
   "source": [
    "There's no year that had significant drop in the disease's breakout. This shows if nothing is done to avert or reduce the effect of the diseases on the citizens, we will continue to have increase in death rate."
   ]
  },
  {
   "cell_type": "markdown",
   "id": "92573dda",
   "metadata": {},
   "source": [
    "### 6. Based on the diseases, is there any trends to show if any deadly disease like Malaria can still surface in the future.¶"
   ]
  },
  {
   "cell_type": "code",
   "execution_count": 33,
   "id": "ab20790a",
   "metadata": {},
   "outputs": [
    {
     "data": {
      "text/html": [
       "<div>\n",
       "<style scoped>\n",
       "    .dataframe tbody tr th:only-of-type {\n",
       "        vertical-align: middle;\n",
       "    }\n",
       "\n",
       "    .dataframe tbody tr th {\n",
       "        vertical-align: top;\n",
       "    }\n",
       "\n",
       "    .dataframe thead th {\n",
       "        text-align: right;\n",
       "    }\n",
       "</style>\n",
       "<table border=\"1\" class=\"dataframe\">\n",
       "  <thead>\n",
       "    <tr style=\"text-align: right;\">\n",
       "      <th></th>\n",
       "      <th>gender</th>\n",
       "      <th>state</th>\n",
       "      <th>settlement</th>\n",
       "      <th>report_date</th>\n",
       "      <th>report_year</th>\n",
       "      <th>age</th>\n",
       "      <th>child_group</th>\n",
       "      <th>adult_group</th>\n",
       "      <th>disease</th>\n",
       "      <th>serotype</th>\n",
       "      <th>health_status</th>\n",
       "      <th>report_outcome</th>\n",
       "      <th>null_serotype</th>\n",
       "    </tr>\n",
       "  </thead>\n",
       "  <tbody>\n",
       "    <tr>\n",
       "      <th>19</th>\n",
       "      <td>Female</td>\n",
       "      <td>Adamawa</td>\n",
       "      <td>Rural</td>\n",
       "      <td>2017-09-23</td>\n",
       "      <td>2017</td>\n",
       "      <td>39</td>\n",
       "      <td>0</td>\n",
       "      <td>1</td>\n",
       "      <td>Malaria</td>\n",
       "      <td>Null</td>\n",
       "      <td>Alive</td>\n",
       "      <td>Not Confirmed</td>\n",
       "      <td>1</td>\n",
       "    </tr>\n",
       "    <tr>\n",
       "      <th>21</th>\n",
       "      <td>Female</td>\n",
       "      <td>Rivers</td>\n",
       "      <td>Urban</td>\n",
       "      <td>2011-02-13</td>\n",
       "      <td>2011</td>\n",
       "      <td>14</td>\n",
       "      <td>1</td>\n",
       "      <td>0</td>\n",
       "      <td>Malaria</td>\n",
       "      <td>Null</td>\n",
       "      <td>Alive</td>\n",
       "      <td>Confirmed</td>\n",
       "      <td>1</td>\n",
       "    </tr>\n",
       "    <tr>\n",
       "      <th>37</th>\n",
       "      <td>Female</td>\n",
       "      <td>Kaduna</td>\n",
       "      <td>Rural</td>\n",
       "      <td>2010-04-02</td>\n",
       "      <td>2010</td>\n",
       "      <td>66</td>\n",
       "      <td>0</td>\n",
       "      <td>1</td>\n",
       "      <td>Malaria</td>\n",
       "      <td>Null</td>\n",
       "      <td>Dead</td>\n",
       "      <td>Confirmed</td>\n",
       "      <td>1</td>\n",
       "    </tr>\n",
       "    <tr>\n",
       "      <th>38</th>\n",
       "      <td>Male</td>\n",
       "      <td>Jigawa</td>\n",
       "      <td>Urban</td>\n",
       "      <td>2017-07-05</td>\n",
       "      <td>2017</td>\n",
       "      <td>8</td>\n",
       "      <td>1</td>\n",
       "      <td>0</td>\n",
       "      <td>Malaria</td>\n",
       "      <td>Null</td>\n",
       "      <td>Alive</td>\n",
       "      <td>Not Confirmed</td>\n",
       "      <td>1</td>\n",
       "    </tr>\n",
       "    <tr>\n",
       "      <th>40</th>\n",
       "      <td>Female</td>\n",
       "      <td>Oyo</td>\n",
       "      <td>Urban</td>\n",
       "      <td>2011-01-22</td>\n",
       "      <td>2011</td>\n",
       "      <td>17</td>\n",
       "      <td>1</td>\n",
       "      <td>0</td>\n",
       "      <td>Malaria</td>\n",
       "      <td>Null</td>\n",
       "      <td>Alive</td>\n",
       "      <td>Confirmed</td>\n",
       "      <td>1</td>\n",
       "    </tr>\n",
       "  </tbody>\n",
       "</table>\n",
       "</div>"
      ],
      "text/plain": [
       "    gender    state settlement report_date  report_year  age  child_group  \\\n",
       "19  Female  Adamawa      Rural  2017-09-23         2017   39            0   \n",
       "21  Female   Rivers      Urban  2011-02-13         2011   14            1   \n",
       "37  Female   Kaduna      Rural  2010-04-02         2010   66            0   \n",
       "38    Male   Jigawa      Urban  2017-07-05         2017    8            1   \n",
       "40  Female      Oyo      Urban  2011-01-22         2011   17            1   \n",
       "\n",
       "    adult_group  disease serotype health_status report_outcome  null_serotype  \n",
       "19            1  Malaria     Null         Alive  Not Confirmed              1  \n",
       "21            0  Malaria     Null         Alive      Confirmed              1  \n",
       "37            1  Malaria     Null          Dead      Confirmed              1  \n",
       "38            0  Malaria     Null         Alive  Not Confirmed              1  \n",
       "40            0  Malaria     Null         Alive      Confirmed              1  "
      ]
     },
     "execution_count": 33,
     "metadata": {},
     "output_type": "execute_result"
    }
   ],
   "source": [
    "#Subsetting disease column to extract malaria\n",
    "dis_malaria = data[data['disease'] == 'Malaria']\n",
    "dis_malaria.head()"
   ]
  },
  {
   "cell_type": "code",
   "execution_count": 34,
   "id": "7044da6c",
   "metadata": {},
   "outputs": [
    {
     "data": {
      "text/plain": [
       "array([2017, 2011, 2010, 2014, 2009, 2015, 2013, 2018, 2012, 2016],\n",
       "      dtype=int64)"
      ]
     },
     "execution_count": 34,
     "metadata": {},
     "output_type": "execute_result"
    }
   ],
   "source": [
    "dis_malaria['report_year'].unique()"
   ]
  },
  {
   "cell_type": "code",
   "execution_count": 35,
   "id": "bd56051a",
   "metadata": {},
   "outputs": [
    {
     "data": {
      "text/plain": [
       "2010    2905\n",
       "2018    2903\n",
       "2016    2903\n",
       "2017    2900\n",
       "2013    2890\n",
       "2009    2884\n",
       "2014    2853\n",
       "2015    2810\n",
       "2012    2747\n",
       "2011    2740\n",
       "Name: report_year, dtype: int64"
      ]
     },
     "execution_count": 35,
     "metadata": {},
     "output_type": "execute_result"
    }
   ],
   "source": [
    "dis_malaria['report_year'].value_counts().sort_values(ascending = False)"
   ]
  },
  {
   "cell_type": "code",
   "execution_count": 36,
   "id": "d8c3ff20",
   "metadata": {},
   "outputs": [
    {
     "data": {
      "image/png": "[encoded data removed]",
      "text/plain": [
       "<Figure size 720x504 with 1 Axes>"
      ]
     },
     "metadata": {
      "needs_background": "light"
     },
     "output_type": "display_data"
    }
   ],
   "source": [
    "plt.figure(figsize =(10, 7))\n",
    "dis_malaria['report_year'].value_counts().sort_values(ascending = False).plot()\n",
    "plt.xticks(rotation = 30)\n",
    "plt.xlabel('Report years for malaria')\n",
    "plt.ylabel('Number of malaria counts  ')\n",
    "plt.title('Trend of Malaria across the past years')\n",
    "plt.show()"
   ]
  },
  {
   "cell_type": "markdown",
   "id": "21185198",
   "metadata": {},
   "source": [
    "From the line chart above it shows that in 2009 there's high increase in malaria, which reduce drastically in 2011, however, there's a sudden rise in 2015 till 2018. This graph has shown that there will be countinous rise of malaria cases.\n",
    "\n",
    "Recommendation: Government should sensitize the public about the seasons when mosquitoes are higher. There should be funding on more research on seasons where malaria will be on the rise.  "
   ]
  },
  {
   "cell_type": "markdown",
   "id": "fa844665",
   "metadata": {},
   "source": [
    "### 7. Occurance rate of malaria based on settlement. Does malaria affect the rurul settlement more than the urban settlement?\n"
   ]
  },
  {
   "cell_type": "code",
   "execution_count": 157,
   "id": "a317cd71",
   "metadata": {},
   "outputs": [
    {
     "data": {
      "text/plain": [
       "Urban    14331\n",
       "Rural    14204\n",
       "Name: settlement, dtype: int64"
      ]
     },
     "execution_count": 157,
     "metadata": {},
     "output_type": "execute_result"
    }
   ],
   "source": [
    "#Checking for counts of settlement\n",
    "malaria_set = dis_malaria['settlement'].value_counts()\n",
    "malaria_set"
   ]
  },
  {
   "cell_type": "code",
   "execution_count": 38,
   "id": "9114bf35",
   "metadata": {},
   "outputs": [
    {
     "data": {
      "image/png": "[encoded data removed]",
      "text/plain": [
       "<Figure size 720x504 with 1 Axes>"
      ]
     },
     "metadata": {},
     "output_type": "display_data"
    }
   ],
   "source": [
    "#Plotting the graph to see the percentage of urban and rural settlement\n",
    "plt.figure(figsize =(10, 7))\n",
    "plt.pie(data['settlement'].value_counts(), labels = data['settlement'].value_counts().index,\n",
    "       startangle = 90,\n",
    "       autopct = '%1.1f%%')\n",
    "plt.legend()\n",
    "plt.show()"
   ]
  },
  {
   "cell_type": "markdown",
   "id": "6342a151",
   "metadata": {},
   "source": [
    "### 8.Based on the diseases, is there any trends to show if any deadly disease like Ebola can still surface in the future.¶"
   ]
  },
  {
   "cell_type": "code",
   "execution_count": 39,
   "id": "94c4de77",
   "metadata": {},
   "outputs": [
    {
     "data": {
      "text/html": [
       "<div>\n",
       "<style scoped>\n",
       "    .dataframe tbody tr th:only-of-type {\n",
       "        vertical-align: middle;\n",
       "    }\n",
       "\n",
       "    .dataframe tbody tr th {\n",
       "        vertical-align: top;\n",
       "    }\n",
       "\n",
       "    .dataframe thead th {\n",
       "        text-align: right;\n",
       "    }\n",
       "</style>\n",
       "<table border=\"1\" class=\"dataframe\">\n",
       "  <thead>\n",
       "    <tr style=\"text-align: right;\">\n",
       "      <th></th>\n",
       "      <th>gender</th>\n",
       "      <th>state</th>\n",
       "      <th>settlement</th>\n",
       "      <th>report_date</th>\n",
       "      <th>report_year</th>\n",
       "      <th>age</th>\n",
       "      <th>child_group</th>\n",
       "      <th>adult_group</th>\n",
       "      <th>disease</th>\n",
       "      <th>serotype</th>\n",
       "      <th>health_status</th>\n",
       "      <th>report_outcome</th>\n",
       "      <th>null_serotype</th>\n",
       "    </tr>\n",
       "  </thead>\n",
       "  <tbody>\n",
       "    <tr>\n",
       "      <th>5</th>\n",
       "      <td>Female</td>\n",
       "      <td>Kaduna</td>\n",
       "      <td>Rural</td>\n",
       "      <td>2012-06-27</td>\n",
       "      <td>2012</td>\n",
       "      <td>44</td>\n",
       "      <td>0</td>\n",
       "      <td>1</td>\n",
       "      <td>Ebola</td>\n",
       "      <td>Null</td>\n",
       "      <td>Alive</td>\n",
       "      <td>Confirmed</td>\n",
       "      <td>1</td>\n",
       "    </tr>\n",
       "    <tr>\n",
       "      <th>13</th>\n",
       "      <td>Male</td>\n",
       "      <td>Nasarawa</td>\n",
       "      <td>Rural</td>\n",
       "      <td>2016-11-19</td>\n",
       "      <td>2016</td>\n",
       "      <td>3</td>\n",
       "      <td>1</td>\n",
       "      <td>0</td>\n",
       "      <td>Ebola</td>\n",
       "      <td>Null</td>\n",
       "      <td>Alive</td>\n",
       "      <td>Not Confirmed</td>\n",
       "      <td>1</td>\n",
       "    </tr>\n",
       "    <tr>\n",
       "      <th>35</th>\n",
       "      <td>Female</td>\n",
       "      <td>Katsina</td>\n",
       "      <td>Urban</td>\n",
       "      <td>2014-01-06</td>\n",
       "      <td>2014</td>\n",
       "      <td>27</td>\n",
       "      <td>0</td>\n",
       "      <td>1</td>\n",
       "      <td>Ebola</td>\n",
       "      <td>Null</td>\n",
       "      <td>Alive</td>\n",
       "      <td>Confirmed</td>\n",
       "      <td>1</td>\n",
       "    </tr>\n",
       "    <tr>\n",
       "      <th>48</th>\n",
       "      <td>Male</td>\n",
       "      <td>Katsina</td>\n",
       "      <td>Urban</td>\n",
       "      <td>2018-04-20</td>\n",
       "      <td>2018</td>\n",
       "      <td>66</td>\n",
       "      <td>0</td>\n",
       "      <td>1</td>\n",
       "      <td>Ebola</td>\n",
       "      <td>Null</td>\n",
       "      <td>Alive</td>\n",
       "      <td>Not Confirmed</td>\n",
       "      <td>1</td>\n",
       "    </tr>\n",
       "    <tr>\n",
       "      <th>84</th>\n",
       "      <td>Female</td>\n",
       "      <td>Jigawa</td>\n",
       "      <td>Rural</td>\n",
       "      <td>2011-11-04</td>\n",
       "      <td>2011</td>\n",
       "      <td>24</td>\n",
       "      <td>0</td>\n",
       "      <td>1</td>\n",
       "      <td>Ebola</td>\n",
       "      <td>Null</td>\n",
       "      <td>Dead</td>\n",
       "      <td>Confirmed</td>\n",
       "      <td>1</td>\n",
       "    </tr>\n",
       "  </tbody>\n",
       "</table>\n",
       "</div>"
      ],
      "text/plain": [
       "    gender     state settlement report_date  report_year  age  child_group  \\\n",
       "5   Female    Kaduna      Rural  2012-06-27         2012   44            0   \n",
       "13    Male  Nasarawa      Rural  2016-11-19         2016    3            1   \n",
       "35  Female   Katsina      Urban  2014-01-06         2014   27            0   \n",
       "48    Male   Katsina      Urban  2018-04-20         2018   66            0   \n",
       "84  Female    Jigawa      Rural  2011-11-04         2011   24            0   \n",
       "\n",
       "    adult_group disease serotype health_status report_outcome  null_serotype  \n",
       "5             1   Ebola     Null         Alive      Confirmed              1  \n",
       "13            0   Ebola     Null         Alive  Not Confirmed              1  \n",
       "35            1   Ebola     Null         Alive      Confirmed              1  \n",
       "48            1   Ebola     Null         Alive  Not Confirmed              1  \n",
       "84            1   Ebola     Null          Dead      Confirmed              1  "
      ]
     },
     "execution_count": 39,
     "metadata": {},
     "output_type": "execute_result"
    }
   ],
   "source": [
    "#Subsetting disease column to extract ebola\n",
    "dis_ebola = data[data['disease'] == 'Ebola']\n",
    "dis_ebola.head()"
   ]
  },
  {
   "cell_type": "code",
   "execution_count": 40,
   "id": "fed69b7b",
   "metadata": {},
   "outputs": [
    {
     "data": {
      "text/plain": [
       "array([2012, 2016, 2014, 2018, 2011, 2017, 2015, 2009, 2013, 2010],\n",
       "      dtype=int64)"
      ]
     },
     "execution_count": 40,
     "metadata": {},
     "output_type": "execute_result"
    }
   ],
   "source": [
    "dis_ebola['report_year'].unique()"
   ]
  },
  {
   "cell_type": "code",
   "execution_count": 41,
   "id": "efd32f77",
   "metadata": {},
   "outputs": [
    {
     "data": {
      "text/plain": [
       "2014    2878\n",
       "2013    2875\n",
       "2017    2871\n",
       "2015    2842\n",
       "2012    2839\n",
       "2010    2810\n",
       "2016    2796\n",
       "2011    2778\n",
       "2009    2774\n",
       "2018    2716\n",
       "Name: report_year, dtype: int64"
      ]
     },
     "execution_count": 41,
     "metadata": {},
     "output_type": "execute_result"
    }
   ],
   "source": [
    "dis_ebola['report_year'].value_counts().sort_values(ascending = False)"
   ]
  },
  {
   "cell_type": "code",
   "execution_count": 42,
   "id": "522c8cf1",
   "metadata": {},
   "outputs": [
    {
     "data": {
      "image/png": "[encoded data removed]",
      "text/plain": [
       "<Figure size 720x504 with 1 Axes>"
      ]
     },
     "metadata": {
      "needs_background": "light"
     },
     "output_type": "display_data"
    }
   ],
   "source": [
    "plt.figure(figsize =(10, 7))\n",
    "dis_ebola['report_year'].value_counts().sort_values(ascending = False).plot()\n",
    "plt.xticks(rotation = 30)\n",
    "plt.xlabel('Report years for ebola')\n",
    "plt.ylabel('Number of ebola counts  ')\n",
    "plt.title('Trend of Ebola across the past years')\n",
    "plt.show()"
   ]
  },
  {
   "cell_type": "markdown",
   "id": "232e4f3e",
   "metadata": {},
   "source": [
    "### 9. Is there any correlation between the columns that will predict if age can have high rate of contacting a particular disease"
   ]
  },
  {
   "cell_type": "code",
   "execution_count": 43,
   "id": "155c051b",
   "metadata": {},
   "outputs": [
    {
     "data": {
      "text/html": [
       "<div>\n",
       "<style scoped>\n",
       "    .dataframe tbody tr th:only-of-type {\n",
       "        vertical-align: middle;\n",
       "    }\n",
       "\n",
       "    .dataframe tbody tr th {\n",
       "        vertical-align: top;\n",
       "    }\n",
       "\n",
       "    .dataframe thead th {\n",
       "        text-align: right;\n",
       "    }\n",
       "</style>\n",
       "<table border=\"1\" class=\"dataframe\">\n",
       "  <thead>\n",
       "    <tr style=\"text-align: right;\">\n",
       "      <th></th>\n",
       "      <th>report_year</th>\n",
       "      <th>age</th>\n",
       "      <th>child_group</th>\n",
       "      <th>adult_group</th>\n",
       "      <th>null_serotype</th>\n",
       "    </tr>\n",
       "  </thead>\n",
       "  <tbody>\n",
       "    <tr>\n",
       "      <th>report_year</th>\n",
       "      <td>1.000000</td>\n",
       "      <td>0.108755</td>\n",
       "      <td>-0.075731</td>\n",
       "      <td>0.075731</td>\n",
       "      <td>0.000543</td>\n",
       "    </tr>\n",
       "    <tr>\n",
       "      <th>age</th>\n",
       "      <td>0.108755</td>\n",
       "      <td>1.000000</td>\n",
       "      <td>-0.773576</td>\n",
       "      <td>0.773576</td>\n",
       "      <td>0.002131</td>\n",
       "    </tr>\n",
       "    <tr>\n",
       "      <th>child_group</th>\n",
       "      <td>-0.075731</td>\n",
       "      <td>-0.773576</td>\n",
       "      <td>1.000000</td>\n",
       "      <td>-1.000000</td>\n",
       "      <td>-0.000996</td>\n",
       "    </tr>\n",
       "    <tr>\n",
       "      <th>adult_group</th>\n",
       "      <td>0.075731</td>\n",
       "      <td>0.773576</td>\n",
       "      <td>-1.000000</td>\n",
       "      <td>1.000000</td>\n",
       "      <td>0.000996</td>\n",
       "    </tr>\n",
       "    <tr>\n",
       "      <th>null_serotype</th>\n",
       "      <td>0.000543</td>\n",
       "      <td>0.002131</td>\n",
       "      <td>-0.000996</td>\n",
       "      <td>0.000996</td>\n",
       "      <td>1.000000</td>\n",
       "    </tr>\n",
       "  </tbody>\n",
       "</table>\n",
       "</div>"
      ],
      "text/plain": [
       "               report_year       age  child_group  adult_group  null_serotype\n",
       "report_year       1.000000  0.108755    -0.075731     0.075731       0.000543\n",
       "age               0.108755  1.000000    -0.773576     0.773576       0.002131\n",
       "child_group      -0.075731 -0.773576     1.000000    -1.000000      -0.000996\n",
       "adult_group       0.075731  0.773576    -1.000000     1.000000       0.000996\n",
       "null_serotype     0.000543  0.002131    -0.000996     0.000996       1.000000"
      ]
     },
     "execution_count": 43,
     "metadata": {},
     "output_type": "execute_result"
    }
   ],
   "source": [
    "#correlation table\n",
    "corr_dis = data.corr()\n",
    "corr_dis"
   ]
  },
  {
   "cell_type": "code",
   "execution_count": 44,
   "id": "91cd6bc5",
   "metadata": {},
   "outputs": [
    {
     "data": {
      "image/png": "[encoded data removed]",
      "text/plain": [
       "<Figure size 864x720 with 2 Axes>"
      ]
     },
     "metadata": {
      "needs_background": "light"
     },
     "output_type": "display_data"
    }
   ],
   "source": [
    "#Using heatmap to visualize the correlation \n",
    "plt.figure(figsize=(12, 10))\n",
    "sns.heatmap(corr_dis, annot = True,linewidths=.5, fmt= '.1f')\n",
    "plt.show()"
   ]
  },
  {
   "cell_type": "markdown",
   "id": "06b04e31",
   "metadata": {},
   "source": [
    "### 10.Mortality rate against age groups ? Trying to know which age groups are more affected by the diseases"
   ]
  },
  {
   "cell_type": "code",
   "execution_count": 45,
   "id": "2d08aeb0",
   "metadata": {},
   "outputs": [
    {
     "data": {
      "text/html": [
       "<div>\n",
       "<style scoped>\n",
       "    .dataframe tbody tr th:only-of-type {\n",
       "        vertical-align: middle;\n",
       "    }\n",
       "\n",
       "    .dataframe tbody tr th {\n",
       "        vertical-align: top;\n",
       "    }\n",
       "\n",
       "    .dataframe thead th {\n",
       "        text-align: right;\n",
       "    }\n",
       "</style>\n",
       "<table border=\"1\" class=\"dataframe\">\n",
       "  <thead>\n",
       "    <tr style=\"text-align: right;\">\n",
       "      <th></th>\n",
       "      <th>gender</th>\n",
       "      <th>state</th>\n",
       "      <th>settlement</th>\n",
       "      <th>report_date</th>\n",
       "      <th>report_year</th>\n",
       "      <th>age</th>\n",
       "      <th>child_group</th>\n",
       "      <th>adult_group</th>\n",
       "      <th>disease</th>\n",
       "      <th>serotype</th>\n",
       "      <th>health_status</th>\n",
       "      <th>report_outcome</th>\n",
       "      <th>null_serotype</th>\n",
       "      <th>Age_group</th>\n",
       "    </tr>\n",
       "  </thead>\n",
       "  <tbody>\n",
       "    <tr>\n",
       "      <th>0</th>\n",
       "      <td>Female</td>\n",
       "      <td>Rivers</td>\n",
       "      <td>Rural</td>\n",
       "      <td>2018-05-15</td>\n",
       "      <td>2018</td>\n",
       "      <td>32</td>\n",
       "      <td>0</td>\n",
       "      <td>1</td>\n",
       "      <td>Cholera</td>\n",
       "      <td>null serotype</td>\n",
       "      <td>Alive</td>\n",
       "      <td>confirmed</td>\n",
       "      <td>1</td>\n",
       "      <td>Adult</td>\n",
       "    </tr>\n",
       "    <tr>\n",
       "      <th>1</th>\n",
       "      <td>Male</td>\n",
       "      <td>Ebonyi</td>\n",
       "      <td>Rural</td>\n",
       "      <td>2017-02-28</td>\n",
       "      <td>2017</td>\n",
       "      <td>32</td>\n",
       "      <td>0</td>\n",
       "      <td>1</td>\n",
       "      <td>Marburg Virus</td>\n",
       "      <td>Null</td>\n",
       "      <td>Alive</td>\n",
       "      <td>Confirmed</td>\n",
       "      <td>1</td>\n",
       "      <td>Adult</td>\n",
       "    </tr>\n",
       "    <tr>\n",
       "      <th>2</th>\n",
       "      <td>Female</td>\n",
       "      <td>Ogun</td>\n",
       "      <td>Urban</td>\n",
       "      <td>2012-03-02</td>\n",
       "      <td>2012</td>\n",
       "      <td>24</td>\n",
       "      <td>0</td>\n",
       "      <td>1</td>\n",
       "      <td>Marburg Virus</td>\n",
       "      <td>Null</td>\n",
       "      <td>Dead</td>\n",
       "      <td>Not Confirmed</td>\n",
       "      <td>1</td>\n",
       "      <td>Adult</td>\n",
       "    </tr>\n",
       "    <tr>\n",
       "      <th>3</th>\n",
       "      <td>Female</td>\n",
       "      <td>Ondo</td>\n",
       "      <td>Rural</td>\n",
       "      <td>2010-05-21</td>\n",
       "      <td>2010</td>\n",
       "      <td>63</td>\n",
       "      <td>0</td>\n",
       "      <td>1</td>\n",
       "      <td>Measles</td>\n",
       "      <td>Null</td>\n",
       "      <td>Alive</td>\n",
       "      <td>Not Confirmed</td>\n",
       "      <td>1</td>\n",
       "      <td>Elder</td>\n",
       "    </tr>\n",
       "    <tr>\n",
       "      <th>4</th>\n",
       "      <td>Male</td>\n",
       "      <td>Oyo</td>\n",
       "      <td>Urban</td>\n",
       "      <td>2017-08-28</td>\n",
       "      <td>2017</td>\n",
       "      <td>9</td>\n",
       "      <td>1</td>\n",
       "      <td>0</td>\n",
       "      <td>Rubella Mars</td>\n",
       "      <td>Null</td>\n",
       "      <td>Alive</td>\n",
       "      <td>Confirmed</td>\n",
       "      <td>1</td>\n",
       "      <td>Child</td>\n",
       "    </tr>\n",
       "  </tbody>\n",
       "</table>\n",
       "</div>"
      ],
      "text/plain": [
       "   gender   state settlement report_date  report_year  age  child_group  \\\n",
       "0  Female  Rivers      Rural  2018-05-15         2018   32            0   \n",
       "1    Male  Ebonyi      Rural  2017-02-28         2017   32            0   \n",
       "2  Female    Ogun      Urban  2012-03-02         2012   24            0   \n",
       "3  Female    Ondo      Rural  2010-05-21         2010   63            0   \n",
       "4    Male     Oyo      Urban  2017-08-28         2017    9            1   \n",
       "\n",
       "   adult_group        disease       serotype health_status report_outcome  \\\n",
       "0            1        Cholera  null serotype         Alive      confirmed   \n",
       "1            1  Marburg Virus           Null         Alive      Confirmed   \n",
       "2            1  Marburg Virus           Null          Dead  Not Confirmed   \n",
       "3            1        Measles           Null         Alive  Not Confirmed   \n",
       "4            0   Rubella Mars           Null         Alive      Confirmed   \n",
       "\n",
       "   null_serotype Age_group  \n",
       "0              1     Adult  \n",
       "1              1     Adult  \n",
       "2              1     Adult  \n",
       "3              1     Elder  \n",
       "4              1     Child  "
      ]
     },
     "execution_count": 45,
     "metadata": {},
     "output_type": "execute_result"
    }
   ],
   "source": [
    "#Creating new columns for the age groups\n",
    "data['Age_group']= ['Child'if i < 13 else \"Teenager\" if i < 20 else 'Adult' if i< 55 else 'Elder'for i in data.age]\n",
    "data.head()"
   ]
  },
  {
   "cell_type": "code",
   "execution_count": 46,
   "id": "8a8a6d99",
   "metadata": {},
   "outputs": [
    {
     "data": {
      "text/plain": [
       "Adult       0.44\n",
       "Elder       0.24\n",
       "Child       0.23\n",
       "Teenager    0.09\n",
       "Name: Age_group, dtype: float64"
      ]
     },
     "execution_count": 46,
     "metadata": {},
     "output_type": "execute_result"
    }
   ],
   "source": [
    "#Checking the percentage of the age groups\n",
    "data.Age_group.value_counts(normalize = True).round(2)"
   ]
  },
  {
   "cell_type": "code",
   "execution_count": 47,
   "id": "352843f6",
   "metadata": {},
   "outputs": [
    {
     "data": {
      "image/png": "[encoded data removed]",
      "text/plain": [
       "<Figure size 720x504 with 1 Axes>"
      ]
     },
     "metadata": {},
     "output_type": "display_data"
    }
   ],
   "source": [
    "#Using pie chart to see the percentage of the age groups\n",
    "plt.figure(figsize =(10, 7))\n",
    "plt.pie(data['Age_group'].value_counts(), labels = data['Age_group'].value_counts().index,\n",
    "       startangle = 90,\n",
    "       autopct = '%1.1f%%')\n",
    "plt.legend()\n",
    "plt.show()"
   ]
  },
  {
   "cell_type": "code",
   "execution_count": 48,
   "id": "4d9cfef5",
   "metadata": {},
   "outputs": [
    {
     "data": {
      "text/html": [
       "<div>\n",
       "<style scoped>\n",
       "    .dataframe tbody tr th:only-of-type {\n",
       "        vertical-align: middle;\n",
       "    }\n",
       "\n",
       "    .dataframe tbody tr th {\n",
       "        vertical-align: top;\n",
       "    }\n",
       "\n",
       "    .dataframe thead th {\n",
       "        text-align: right;\n",
       "    }\n",
       "</style>\n",
       "<table border=\"1\" class=\"dataframe\">\n",
       "  <thead>\n",
       "    <tr style=\"text-align: right;\">\n",
       "      <th>disease</th>\n",
       "      <th>Cholera</th>\n",
       "      <th>Diarrhoea</th>\n",
       "      <th>Ebola</th>\n",
       "      <th>Malaria</th>\n",
       "      <th>Marburg Virus</th>\n",
       "      <th>Measles</th>\n",
       "      <th>Meningitis</th>\n",
       "      <th>Rubella Mars</th>\n",
       "      <th>Viral Haemmorrhaphic Fever</th>\n",
       "      <th>Yellow Fever</th>\n",
       "    </tr>\n",
       "    <tr>\n",
       "      <th>Age_group</th>\n",
       "      <th></th>\n",
       "      <th></th>\n",
       "      <th></th>\n",
       "      <th></th>\n",
       "      <th></th>\n",
       "      <th></th>\n",
       "      <th></th>\n",
       "      <th></th>\n",
       "      <th></th>\n",
       "      <th></th>\n",
       "    </tr>\n",
       "  </thead>\n",
       "  <tbody>\n",
       "    <tr>\n",
       "      <th>Adult</th>\n",
       "      <td>12444</td>\n",
       "      <td>12347</td>\n",
       "      <td>12344</td>\n",
       "      <td>12632</td>\n",
       "      <td>12456</td>\n",
       "      <td>12589</td>\n",
       "      <td>12486</td>\n",
       "      <td>12523</td>\n",
       "      <td>12454</td>\n",
       "      <td>12515</td>\n",
       "    </tr>\n",
       "    <tr>\n",
       "      <th>Child</th>\n",
       "      <td>6523</td>\n",
       "      <td>6604</td>\n",
       "      <td>6400</td>\n",
       "      <td>6406</td>\n",
       "      <td>6544</td>\n",
       "      <td>6396</td>\n",
       "      <td>6546</td>\n",
       "      <td>6527</td>\n",
       "      <td>6506</td>\n",
       "      <td>6556</td>\n",
       "    </tr>\n",
       "    <tr>\n",
       "      <th>Elder</th>\n",
       "      <td>7028</td>\n",
       "      <td>7028</td>\n",
       "      <td>6925</td>\n",
       "      <td>6935</td>\n",
       "      <td>6938</td>\n",
       "      <td>6963</td>\n",
       "      <td>6853</td>\n",
       "      <td>6916</td>\n",
       "      <td>6898</td>\n",
       "      <td>6909</td>\n",
       "    </tr>\n",
       "    <tr>\n",
       "      <th>Teenager</th>\n",
       "      <td>2594</td>\n",
       "      <td>2571</td>\n",
       "      <td>2510</td>\n",
       "      <td>2562</td>\n",
       "      <td>2492</td>\n",
       "      <td>2523</td>\n",
       "      <td>2477</td>\n",
       "      <td>2573</td>\n",
       "      <td>2543</td>\n",
       "      <td>2448</td>\n",
       "    </tr>\n",
       "  </tbody>\n",
       "</table>\n",
       "</div>"
      ],
      "text/plain": [
       "disease    Cholera  Diarrhoea  Ebola  Malaria  Marburg Virus  Measles  \\\n",
       "Age_group                                                               \n",
       "Adult        12444      12347  12344    12632          12456    12589   \n",
       "Child         6523       6604   6400     6406           6544     6396   \n",
       "Elder         7028       7028   6925     6935           6938     6963   \n",
       "Teenager      2594       2571   2510     2562           2492     2523   \n",
       "\n",
       "disease    Meningitis  Rubella Mars  Viral Haemmorrhaphic Fever  Yellow Fever  \n",
       "Age_group                                                                      \n",
       "Adult           12486         12523                       12454         12515  \n",
       "Child            6546          6527                        6506          6556  \n",
       "Elder            6853          6916                        6898          6909  \n",
       "Teenager         2477          2573                        2543          2448  "
      ]
     },
     "execution_count": 48,
     "metadata": {},
     "output_type": "execute_result"
    }
   ],
   "source": [
    "age_dis = data.groupby(['Age_group'])['disease'].value_counts().unstack()\n",
    "age_dis"
   ]
  },
  {
   "cell_type": "code",
   "execution_count": 49,
   "id": "8491d076",
   "metadata": {},
   "outputs": [
    {
     "data": {
      "image/png": "[encoded data removed]",
      "text/plain": [
       "<Figure size 720x432 with 1 Axes>"
      ]
     },
     "metadata": {
      "needs_background": "light"
     },
     "output_type": "display_data"
    }
   ],
   "source": [
    "#Using bar plt to visualize different age groups and diseases \n",
    "plot = age_dis.plot.bar(figsize=(10, 6),color= ['grey', 'blue', 'skyblue', 'k', 'royalblue',\n",
    "                                                 'purple', 'indigo', 'silver',\n",
    "                                                    'm', 'c'])\n",
    "plt.legend();"
   ]
  },
  {
   "cell_type": "markdown",
   "id": "51688faa",
   "metadata": {},
   "source": [
    "From the chart above, it depicts that the adult group from 20 - 54 years have higher chances of contacting these diseases followed by Elder from 55 and above while Child from 0- 12 and Teenager from 13 - 19 have lesser chances of contacting these disease. This deducts that Teengers have stronger immunity to resist the diseases from constant occurance. "
   ]
  },
  {
   "cell_type": "markdown",
   "id": "464a2250",
   "metadata": {},
   "source": [
    "### 11. Mortality rate against age groups "
   ]
  },
  {
   "cell_type": "code",
   "execution_count": 50,
   "id": "8f6a3e3b",
   "metadata": {},
   "outputs": [
    {
     "data": {
      "text/html": [
       "<div>\n",
       "<style scoped>\n",
       "    .dataframe tbody tr th:only-of-type {\n",
       "        vertical-align: middle;\n",
       "    }\n",
       "\n",
       "    .dataframe tbody tr th {\n",
       "        vertical-align: top;\n",
       "    }\n",
       "\n",
       "    .dataframe thead th {\n",
       "        text-align: right;\n",
       "    }\n",
       "</style>\n",
       "<table border=\"1\" class=\"dataframe\">\n",
       "  <thead>\n",
       "    <tr style=\"text-align: right;\">\n",
       "      <th>health_status</th>\n",
       "      <th>Alive</th>\n",
       "      <th>Dead</th>\n",
       "    </tr>\n",
       "    <tr>\n",
       "      <th>Age_group</th>\n",
       "      <th></th>\n",
       "      <th></th>\n",
       "    </tr>\n",
       "  </thead>\n",
       "  <tbody>\n",
       "    <tr>\n",
       "      <th>Adult</th>\n",
       "      <td>62560</td>\n",
       "      <td>62230</td>\n",
       "    </tr>\n",
       "    <tr>\n",
       "      <th>Child</th>\n",
       "      <td>32468</td>\n",
       "      <td>32540</td>\n",
       "    </tr>\n",
       "    <tr>\n",
       "      <th>Elder</th>\n",
       "      <td>34649</td>\n",
       "      <td>34744</td>\n",
       "    </tr>\n",
       "    <tr>\n",
       "      <th>Teenager</th>\n",
       "      <td>12518</td>\n",
       "      <td>12775</td>\n",
       "    </tr>\n",
       "  </tbody>\n",
       "</table>\n",
       "</div>"
      ],
      "text/plain": [
       "health_status  Alive   Dead\n",
       "Age_group                  \n",
       "Adult          62560  62230\n",
       "Child          32468  32540\n",
       "Elder          34649  34744\n",
       "Teenager       12518  12775"
      ]
     },
     "execution_count": 50,
     "metadata": {},
     "output_type": "execute_result"
    }
   ],
   "source": [
    "#Mortality rate against age groups \n",
    "age_m =data.groupby(\"Age_group\")[\"health_status\"].value_counts().unstack().fillna(0)\n",
    "age_m"
   ]
  },
  {
   "cell_type": "code",
   "execution_count": 51,
   "id": "beee2063",
   "metadata": {},
   "outputs": [
    {
     "data": {
      "text/plain": [
       "<AxesSubplot:xlabel='Age_group', ylabel='count'>"
      ]
     },
     "execution_count": 51,
     "metadata": {},
     "output_type": "execute_result"
    },
    {
     "data": {
      "image/png": "[encoded data removed]",
      "text/plain": [
       "<Figure size 720x504 with 1 Axes>"
      ]
     },
     "metadata": {
      "needs_background": "light"
     },
     "output_type": "display_data"
    }
   ],
   "source": [
    "#Visualizing the age grpups and mortality rate\n",
    "plt.figure(figsize =(10, 7))\n",
    "sns.countplot(x = 'Age_group', hue = 'health_status', data = data, palette = 'Blues_r')"
   ]
  },
  {
   "cell_type": "markdown",
   "id": "190eda33",
   "metadata": {},
   "source": [
    "Looking at the previous visualization we made on age groups against diseases, we saw that the diseases affected the adult group more that others, proceeding to this visualization here, you notice that Adult group are more prone to the effect of these diseases leading to higher mortaity rate on their age group"
   ]
  },
  {
   "cell_type": "markdown",
   "id": "e4d655cd",
   "metadata": {},
   "source": [
    "### 12. Using Multi-variate analysis to visualize which state and in what year do we have more death?"
   ]
  },
  {
   "cell_type": "code",
   "execution_count": 52,
   "id": "109aca95",
   "metadata": {},
   "outputs": [
    {
     "data": {
      "text/html": [
       "<div>\n",
       "<style scoped>\n",
       "    .dataframe tbody tr th:only-of-type {\n",
       "        vertical-align: middle;\n",
       "    }\n",
       "\n",
       "    .dataframe tbody tr th {\n",
       "        vertical-align: top;\n",
       "    }\n",
       "\n",
       "    .dataframe thead th {\n",
       "        text-align: right;\n",
       "    }\n",
       "</style>\n",
       "<table border=\"1\" class=\"dataframe\">\n",
       "  <thead>\n",
       "    <tr style=\"text-align: right;\">\n",
       "      <th></th>\n",
       "      <th>id</th>\n",
       "      <th>surname</th>\n",
       "      <th>firstname</th>\n",
       "      <th>middlename</th>\n",
       "      <th>gender</th>\n",
       "      <th>gender_male</th>\n",
       "      <th>gender_female</th>\n",
       "      <th>state</th>\n",
       "      <th>settlement</th>\n",
       "      <th>rural_settlement</th>\n",
       "      <th>...</th>\n",
       "      <th>NmA</th>\n",
       "      <th>NmC</th>\n",
       "      <th>NmW</th>\n",
       "      <th>health_status</th>\n",
       "      <th>alive</th>\n",
       "      <th>dead</th>\n",
       "      <th>report_outcome</th>\n",
       "      <th>unconfirmed</th>\n",
       "      <th>confirmed</th>\n",
       "      <th>null_serotype</th>\n",
       "    </tr>\n",
       "  </thead>\n",
       "  <tbody>\n",
       "  </tbody>\n",
       "</table>\n",
       "<p>0 rows × 40 columns</p>\n",
       "</div>"
      ],
      "text/plain": [
       "Empty DataFrame\n",
       "Columns: [id, surname, firstname, middlename, gender, gender_male, gender_female, state, settlement, rural_settlement, urban_settlement, report_date, report_year, age, age_str, date_of_birth, child_group, adult_group, disease, cholera, diarrhoea, measles, viral_haemmorrhaphic_fever, meningitis, ebola, marburg_virus, yellow_fever, rubella_mars, malaria, serotype, NmA, NmC, NmW, health_status, alive, dead, report_outcome, unconfirmed, confirmed, null_serotype]\n",
       "Index: []\n",
       "\n",
       "[0 rows x 40 columns]"
      ]
     },
     "execution_count": 52,
     "metadata": {},
     "output_type": "execute_result"
    }
   ],
   "source": [
    "#Subsetting for only dead\n",
    "dead_status = meni_data1[meni_data1['health_status']== 'dead']\n",
    "dead_status"
   ]
  },
  {
   "cell_type": "code",
   "execution_count": 53,
   "id": "b4e95d4f",
   "metadata": {},
   "outputs": [
    {
     "data": {
      "text/plain": [
       "state                      report_year  health_status\n",
       "Rivers                     2012         Alive            464\n",
       "Federal Capital Territory  2010         Dead             447\n",
       "Bayelsa                    2013         Dead             443\n",
       "Taraba                     2009         Dead             443\n",
       "Kwara                      2011         Alive            438\n",
       "Imo                        2013         Alive            436\n",
       "Kano                       2014         Alive            433\n",
       "Sokoto                     2017         Alive            431\n",
       "Ondo                       2009         Dead             431\n",
       "Kogi                       2016         Dead             430\n",
       "dtype: int64"
      ]
     },
     "execution_count": 53,
     "metadata": {},
     "output_type": "execute_result"
    }
   ],
   "source": [
    "#Selecting columns to perform a multi-variate analysis\n",
    "state_mortality = data[['state', 'report_year','health_status']].value_counts(ascending = False).head(10)\n",
    "state_mortality \n"
   ]
  },
  {
   "cell_type": "code",
   "execution_count": 54,
   "id": "6c1e69b7",
   "metadata": {},
   "outputs": [
    {
     "data": {
      "text/plain": [
       "<AxesSubplot:xlabel='state,report_year,health_status'>"
      ]
     },
     "execution_count": 54,
     "metadata": {},
     "output_type": "execute_result"
    },
    {
     "data": {
      "image/png": "[encoded data removed]",
      "text/plain": [
       "<Figure size 648x576 with 1 Axes>"
      ]
     },
     "metadata": {
      "needs_background": "light"
     },
     "output_type": "display_data"
    }
   ],
   "source": [
    "state_mortality.plot(x=\"health_status\", y=[\"report_year\", \"state\"], kind=\"bar\", figsize=(9, 8))\n",
    " "
   ]
  },
  {
   "cell_type": "markdown",
   "id": "2d0f013a",
   "metadata": {},
   "source": [
    "In 2010 in FCT, there were 447 recorded death cases which is slightly higher than Bayelsa and Taraba."
   ]
  },
  {
   "cell_type": "markdown",
   "id": "d98cb840",
   "metadata": {},
   "source": [
    "### 13. Disease more prevalant in different states."
   ]
  },
  {
   "cell_type": "code",
   "execution_count": 55,
   "id": "8a3992cd",
   "metadata": {},
   "outputs": [
    {
     "data": {
      "text/html": [
       "<div>\n",
       "<style scoped>\n",
       "    .dataframe tbody tr th:only-of-type {\n",
       "        vertical-align: middle;\n",
       "    }\n",
       "\n",
       "    .dataframe tbody tr th {\n",
       "        vertical-align: top;\n",
       "    }\n",
       "\n",
       "    .dataframe thead th {\n",
       "        text-align: right;\n",
       "    }\n",
       "</style>\n",
       "<table border=\"1\" class=\"dataframe\">\n",
       "  <thead>\n",
       "    <tr style=\"text-align: right;\">\n",
       "      <th></th>\n",
       "      <th></th>\n",
       "      <th>disease</th>\n",
       "    </tr>\n",
       "    <tr>\n",
       "      <th>state</th>\n",
       "      <th>disease</th>\n",
       "      <th></th>\n",
       "    </tr>\n",
       "  </thead>\n",
       "  <tbody>\n",
       "    <tr>\n",
       "      <th>Zamfara</th>\n",
       "      <th>Cholera</th>\n",
       "      <td>788</td>\n",
       "    </tr>\n",
       "    <tr>\n",
       "      <th>Kaduna</th>\n",
       "      <th>Diarrhoea</th>\n",
       "      <td>785</td>\n",
       "    </tr>\n",
       "    <tr>\n",
       "      <th>Ogun</th>\n",
       "      <th>Rubella Mars</th>\n",
       "      <td>701</td>\n",
       "    </tr>\n",
       "    <tr>\n",
       "      <th>Taraba</th>\n",
       "      <th>Yellow Fever</th>\n",
       "      <td>744</td>\n",
       "    </tr>\n",
       "    <tr>\n",
       "      <th>Jigawa</th>\n",
       "      <th>Cholera</th>\n",
       "      <td>765</td>\n",
       "    </tr>\n",
       "    <tr>\n",
       "      <th>Delta</th>\n",
       "      <th>Viral Haemmorrhaphic Fever</th>\n",
       "      <td>809</td>\n",
       "    </tr>\n",
       "    <tr>\n",
       "      <th>Ebonyi</th>\n",
       "      <th>Ebola</th>\n",
       "      <td>812</td>\n",
       "    </tr>\n",
       "    <tr>\n",
       "      <th>Benue</th>\n",
       "      <th>Viral Haemmorrhaphic Fever</th>\n",
       "      <td>724</td>\n",
       "    </tr>\n",
       "    <tr>\n",
       "      <th>Edo</th>\n",
       "      <th>Cholera</th>\n",
       "      <td>748</td>\n",
       "    </tr>\n",
       "    <tr>\n",
       "      <th>Borno</th>\n",
       "      <th>Malaria</th>\n",
       "      <td>713</td>\n",
       "    </tr>\n",
       "    <tr>\n",
       "      <th>Osun</th>\n",
       "      <th>Marburg Virus</th>\n",
       "      <td>775</td>\n",
       "    </tr>\n",
       "    <tr>\n",
       "      <th>Kano</th>\n",
       "      <th>Ebola</th>\n",
       "      <td>785</td>\n",
       "    </tr>\n",
       "    <tr>\n",
       "      <th>Oyo</th>\n",
       "      <th>Rubella Mars</th>\n",
       "      <td>795</td>\n",
       "    </tr>\n",
       "    <tr>\n",
       "      <th>Borno</th>\n",
       "      <th>Viral Haemmorrhaphic Fever</th>\n",
       "      <td>714</td>\n",
       "    </tr>\n",
       "    <tr>\n",
       "      <th>Rivers</th>\n",
       "      <th>Measles</th>\n",
       "      <td>814</td>\n",
       "    </tr>\n",
       "    <tr>\n",
       "      <th>Nasarawa</th>\n",
       "      <th>Ebola</th>\n",
       "      <td>778</td>\n",
       "    </tr>\n",
       "    <tr>\n",
       "      <th>Yobe</th>\n",
       "      <th>Malaria</th>\n",
       "      <td>767</td>\n",
       "    </tr>\n",
       "    <tr>\n",
       "      <th>Oyo</th>\n",
       "      <th>Measles</th>\n",
       "      <td>730</td>\n",
       "    </tr>\n",
       "    <tr>\n",
       "      <th>Borno</th>\n",
       "      <th>Rubella Mars</th>\n",
       "      <td>728</td>\n",
       "    </tr>\n",
       "    <tr>\n",
       "      <th>Lagos</th>\n",
       "      <th>Cholera</th>\n",
       "      <td>775</td>\n",
       "    </tr>\n",
       "    <tr>\n",
       "      <th>Kwara</th>\n",
       "      <th>Measles</th>\n",
       "      <td>849</td>\n",
       "    </tr>\n",
       "    <tr>\n",
       "      <th>Ogun</th>\n",
       "      <th>Meningitis</th>\n",
       "      <td>789</td>\n",
       "    </tr>\n",
       "    <tr>\n",
       "      <th>Kwara</th>\n",
       "      <th>Malaria</th>\n",
       "      <td>833</td>\n",
       "    </tr>\n",
       "    <tr>\n",
       "      <th>Edo</th>\n",
       "      <th>Viral Haemmorrhaphic Fever</th>\n",
       "      <td>753</td>\n",
       "    </tr>\n",
       "    <tr>\n",
       "      <th>Kaduna</th>\n",
       "      <th>Malaria</th>\n",
       "      <td>751</td>\n",
       "    </tr>\n",
       "    <tr>\n",
       "      <th>Abia</th>\n",
       "      <th>Diarrhoea</th>\n",
       "      <td>731</td>\n",
       "    </tr>\n",
       "    <tr>\n",
       "      <th>Gombe</th>\n",
       "      <th>Cholera</th>\n",
       "      <td>766</td>\n",
       "    </tr>\n",
       "    <tr>\n",
       "      <th>Plateau</th>\n",
       "      <th>Diarrhoea</th>\n",
       "      <td>807</td>\n",
       "    </tr>\n",
       "    <tr>\n",
       "      <th>Niger</th>\n",
       "      <th>Measles</th>\n",
       "      <td>799</td>\n",
       "    </tr>\n",
       "    <tr>\n",
       "      <th>Lagos</th>\n",
       "      <th>Yellow Fever</th>\n",
       "      <td>769</td>\n",
       "    </tr>\n",
       "    <tr>\n",
       "      <th>Nasarawa</th>\n",
       "      <th>Viral Haemmorrhaphic Fever</th>\n",
       "      <td>809</td>\n",
       "    </tr>\n",
       "    <tr>\n",
       "      <th>Abia</th>\n",
       "      <th>Measles</th>\n",
       "      <td>757</td>\n",
       "    </tr>\n",
       "    <tr>\n",
       "      <th>Anambra</th>\n",
       "      <th>Diarrhoea</th>\n",
       "      <td>787</td>\n",
       "    </tr>\n",
       "    <tr>\n",
       "      <th>Kogi</th>\n",
       "      <th>Measles</th>\n",
       "      <td>692</td>\n",
       "    </tr>\n",
       "    <tr>\n",
       "      <th>Ogun</th>\n",
       "      <th>Yellow Fever</th>\n",
       "      <td>770</td>\n",
       "    </tr>\n",
       "    <tr>\n",
       "      <th>Bauchi</th>\n",
       "      <th>Yellow Fever</th>\n",
       "      <td>803</td>\n",
       "    </tr>\n",
       "  </tbody>\n",
       "</table>\n",
       "</div>"
      ],
      "text/plain": [
       "                                     disease\n",
       "state    disease                            \n",
       "Zamfara  Cholera                         788\n",
       "Kaduna   Diarrhoea                       785\n",
       "Ogun     Rubella Mars                    701\n",
       "Taraba   Yellow Fever                    744\n",
       "Jigawa   Cholera                         765\n",
       "Delta    Viral Haemmorrhaphic Fever      809\n",
       "Ebonyi   Ebola                           812\n",
       "Benue    Viral Haemmorrhaphic Fever      724\n",
       "Edo      Cholera                         748\n",
       "Borno    Malaria                         713\n",
       "Osun     Marburg Virus                   775\n",
       "Kano     Ebola                           785\n",
       "Oyo      Rubella Mars                    795\n",
       "Borno    Viral Haemmorrhaphic Fever      714\n",
       "Rivers   Measles                         814\n",
       "Nasarawa Ebola                           778\n",
       "Yobe     Malaria                         767\n",
       "Oyo      Measles                         730\n",
       "Borno    Rubella Mars                    728\n",
       "Lagos    Cholera                         775\n",
       "Kwara    Measles                         849\n",
       "Ogun     Meningitis                      789\n",
       "Kwara    Malaria                         833\n",
       "Edo      Viral Haemmorrhaphic Fever      753\n",
       "Kaduna   Malaria                         751\n",
       "Abia     Diarrhoea                       731\n",
       "Gombe    Cholera                         766\n",
       "Plateau  Diarrhoea                       807\n",
       "Niger    Measles                         799\n",
       "Lagos    Yellow Fever                    769\n",
       "Nasarawa Viral Haemmorrhaphic Fever      809\n",
       "Abia     Measles                         757\n",
       "Anambra  Diarrhoea                       787\n",
       "Kogi     Measles                         692\n",
       "Ogun     Yellow Fever                    770\n",
       "Bauchi   Yellow Fever                    803"
      ]
     },
     "execution_count": 55,
     "metadata": {},
     "output_type": "execute_result"
    }
   ],
   "source": [
    "#Using group by to see the diseases in different states\n",
    "\n",
    "dis_state = data.groupby('state')['disease'].value_counts(ascending = False).to_frame()\n",
    "dis_state.sample(36).head(36)"
   ]
  },
  {
   "cell_type": "code",
   "execution_count": 56,
   "id": "b633ff93",
   "metadata": {},
   "outputs": [
    {
     "data": {
      "text/plain": [
       "<AxesSubplot:xlabel='state,disease'>"
      ]
     },
     "execution_count": 56,
     "metadata": {},
     "output_type": "execute_result"
    },
    {
     "data": {
      "image/png": "[encoded data removed]",
      "text/plain": [
       "<Figure size 648x576 with 1 Axes>"
      ]
     },
     "metadata": {
      "needs_background": "light"
     },
     "output_type": "display_data"
    }
   ],
   "source": [
    "#Visualizing the top 5 states that are more prevalant to diseases\n",
    "dis_state.sample(36).head(36).plot( kind=\"bar\", figsize=(9, 8))\n"
   ]
  },
  {
   "cell_type": "markdown",
   "id": "8376bc05",
   "metadata": {},
   "source": [
    "From the chart measles are more prevalant in Kwara state, viral haemmorhaphic fever and cholera are more in Niger state, Rubella Mars are more in Osun and viral haemmorhaphic fever are also more prevalant in Yobe state."
   ]
  },
  {
   "cell_type": "markdown",
   "id": "9618c44f",
   "metadata": {},
   "source": [
    "### 14. Which particular state is mostly affected based on malaria?"
   ]
  },
  {
   "cell_type": "code",
   "execution_count": 57,
   "id": "5206d231",
   "metadata": {},
   "outputs": [
    {
     "data": {
      "text/html": [
       "<div>\n",
       "<style scoped>\n",
       "    .dataframe tbody tr th:only-of-type {\n",
       "        vertical-align: middle;\n",
       "    }\n",
       "\n",
       "    .dataframe tbody tr th {\n",
       "        vertical-align: top;\n",
       "    }\n",
       "\n",
       "    .dataframe thead th {\n",
       "        text-align: right;\n",
       "    }\n",
       "</style>\n",
       "<table border=\"1\" class=\"dataframe\">\n",
       "  <thead>\n",
       "    <tr style=\"text-align: right;\">\n",
       "      <th></th>\n",
       "      <th>gender</th>\n",
       "      <th>state</th>\n",
       "      <th>settlement</th>\n",
       "      <th>report_date</th>\n",
       "      <th>report_year</th>\n",
       "      <th>age</th>\n",
       "      <th>child_group</th>\n",
       "      <th>adult_group</th>\n",
       "      <th>disease</th>\n",
       "      <th>serotype</th>\n",
       "      <th>health_status</th>\n",
       "      <th>report_outcome</th>\n",
       "      <th>null_serotype</th>\n",
       "      <th>Age_group</th>\n",
       "    </tr>\n",
       "  </thead>\n",
       "  <tbody>\n",
       "    <tr>\n",
       "      <th>19</th>\n",
       "      <td>Female</td>\n",
       "      <td>Adamawa</td>\n",
       "      <td>Rural</td>\n",
       "      <td>2017-09-23</td>\n",
       "      <td>2017</td>\n",
       "      <td>39</td>\n",
       "      <td>0</td>\n",
       "      <td>1</td>\n",
       "      <td>Malaria</td>\n",
       "      <td>Null</td>\n",
       "      <td>Alive</td>\n",
       "      <td>Not Confirmed</td>\n",
       "      <td>1</td>\n",
       "      <td>Adult</td>\n",
       "    </tr>\n",
       "    <tr>\n",
       "      <th>21</th>\n",
       "      <td>Female</td>\n",
       "      <td>Rivers</td>\n",
       "      <td>Urban</td>\n",
       "      <td>2011-02-13</td>\n",
       "      <td>2011</td>\n",
       "      <td>14</td>\n",
       "      <td>1</td>\n",
       "      <td>0</td>\n",
       "      <td>Malaria</td>\n",
       "      <td>Null</td>\n",
       "      <td>Alive</td>\n",
       "      <td>Confirmed</td>\n",
       "      <td>1</td>\n",
       "      <td>Teenager</td>\n",
       "    </tr>\n",
       "    <tr>\n",
       "      <th>37</th>\n",
       "      <td>Female</td>\n",
       "      <td>Kaduna</td>\n",
       "      <td>Rural</td>\n",
       "      <td>2010-04-02</td>\n",
       "      <td>2010</td>\n",
       "      <td>66</td>\n",
       "      <td>0</td>\n",
       "      <td>1</td>\n",
       "      <td>Malaria</td>\n",
       "      <td>Null</td>\n",
       "      <td>Dead</td>\n",
       "      <td>Confirmed</td>\n",
       "      <td>1</td>\n",
       "      <td>Elder</td>\n",
       "    </tr>\n",
       "  </tbody>\n",
       "</table>\n",
       "</div>"
      ],
      "text/plain": [
       "    gender    state settlement report_date  report_year  age  child_group  \\\n",
       "19  Female  Adamawa      Rural  2017-09-23         2017   39            0   \n",
       "21  Female   Rivers      Urban  2011-02-13         2011   14            1   \n",
       "37  Female   Kaduna      Rural  2010-04-02         2010   66            0   \n",
       "\n",
       "    adult_group  disease serotype health_status report_outcome  null_serotype  \\\n",
       "19            1  Malaria     Null         Alive  Not Confirmed              1   \n",
       "21            0  Malaria     Null         Alive      Confirmed              1   \n",
       "37            1  Malaria     Null          Dead      Confirmed              1   \n",
       "\n",
       "   Age_group  \n",
       "19     Adult  \n",
       "21  Teenager  \n",
       "37     Elder  "
      ]
     },
     "execution_count": 57,
     "metadata": {},
     "output_type": "execute_result"
    }
   ],
   "source": [
    "# subsetting to get dataset with malaria disease only\n",
    "malaria = data[data.disease == 'Malaria']\n",
    "malaria.head(3)"
   ]
  },
  {
   "cell_type": "code",
   "execution_count": 58,
   "id": "c4b9b6b7",
   "metadata": {},
   "outputs": [
    {
     "data": {
      "text/html": [
       "<div>\n",
       "<style scoped>\n",
       "    .dataframe tbody tr th:only-of-type {\n",
       "        vertical-align: middle;\n",
       "    }\n",
       "\n",
       "    .dataframe tbody tr th {\n",
       "        vertical-align: top;\n",
       "    }\n",
       "\n",
       "    .dataframe thead th {\n",
       "        text-align: right;\n",
       "    }\n",
       "</style>\n",
       "<table border=\"1\" class=\"dataframe\">\n",
       "  <thead>\n",
       "    <tr style=\"text-align: right;\">\n",
       "      <th></th>\n",
       "      <th></th>\n",
       "      <th>disease count</th>\n",
       "    </tr>\n",
       "    <tr>\n",
       "      <th>state</th>\n",
       "      <th>disease</th>\n",
       "      <th></th>\n",
       "    </tr>\n",
       "  </thead>\n",
       "  <tbody>\n",
       "    <tr>\n",
       "      <th>Kano</th>\n",
       "      <th>Malaria</th>\n",
       "      <td>833</td>\n",
       "    </tr>\n",
       "    <tr>\n",
       "      <th>Kwara</th>\n",
       "      <th>Malaria</th>\n",
       "      <td>833</td>\n",
       "    </tr>\n",
       "    <tr>\n",
       "      <th>Ebonyi</th>\n",
       "      <th>Malaria</th>\n",
       "      <td>831</td>\n",
       "    </tr>\n",
       "    <tr>\n",
       "      <th>Edo</th>\n",
       "      <th>Malaria</th>\n",
       "      <td>805</td>\n",
       "    </tr>\n",
       "    <tr>\n",
       "      <th>Federal Capital Territory</th>\n",
       "      <th>Malaria</th>\n",
       "      <td>805</td>\n",
       "    </tr>\n",
       "  </tbody>\n",
       "</table>\n",
       "</div>"
      ],
      "text/plain": [
       "                                   disease count\n",
       "state                     disease               \n",
       "Kano                      Malaria            833\n",
       "Kwara                     Malaria            833\n",
       "Ebonyi                    Malaria            831\n",
       "Edo                       Malaria            805\n",
       "Federal Capital Territory Malaria            805"
      ]
     },
     "execution_count": 58,
     "metadata": {},
     "output_type": "execute_result"
    }
   ],
   "source": [
    "states_malaria = malaria.groupby('state')['disease'].value_counts().sort_values(ascending = False).head(5)\n",
    "states_malaria = pd.DataFrame(states_malaria)\n",
    "states_malaria.columns = ['disease count']\n",
    "states_malaria"
   ]
  },
  {
   "cell_type": "code",
   "execution_count": 59,
   "id": "a80c4804",
   "metadata": {},
   "outputs": [
    {
     "data": {
      "image/png": "[encoded data removed]",
      "text/plain": [
       "<Figure size 576x432 with 1 Axes>"
      ]
     },
     "metadata": {
      "needs_background": "light"
     },
     "output_type": "display_data"
    }
   ],
   "source": [
    "plot = states_malaria.plot.barh(figsize =(8,6),color='royalblue')\n",
    "plt.xlabel('Counts of disease cases')\n",
    "#plt.ylabel('state')\n",
    "plt.title('top 10 States with highest Malaria cases')\n",
    "plt.show();\n",
    "\n"
   ]
  },
  {
   "cell_type": "markdown",
   "id": "c60fa659",
   "metadata": {},
   "source": [
    "From the chart above, there's a high record of malaria cases in Kano and Kwara states(833 cases recorded). \n",
    "\n",
    "Recommendation: As malaria was the most common disease in kwara and kano, it's recommend that government should;\n",
    "\n",
    "Educate the masses and parents on malaria, it's danger and when to seek medical assistance.\n",
    "\n",
    "A health campaign should be held to educate them on the proper use of mosquito net, adequate sanitation, proper human waste disposal. Government should create a sewage channel to avoid stagnant water in the states. "
   ]
  },
  {
   "cell_type": "markdown",
   "id": "ac2b0878",
   "metadata": {},
   "source": [
    "### 15. Using multi_variate analysis to check state with the highest disease outbreak, Health status and year"
   ]
  },
  {
   "cell_type": "code",
   "execution_count": 60,
   "id": "2e7467e4",
   "metadata": {},
   "outputs": [
    {
     "data": {
      "text/plain": [
       "state    disease       report_year  health_status\n",
       "Abia     Cholera       2009         Dead             48\n",
       "                                    Alive            37\n",
       "                       2010         Dead             39\n",
       "                                    Alive            31\n",
       "                       2011         Dead             45\n",
       "                                                     ..\n",
       "Zamfara  Yellow Fever  2016         Alive            35\n",
       "                       2017         Alive            50\n",
       "                                    Dead             33\n",
       "                       2018         Alive            44\n",
       "                                    Dead             44\n",
       "Name: health_status, Length: 7400, dtype: int64"
      ]
     },
     "execution_count": 60,
     "metadata": {},
     "output_type": "execute_result"
    }
   ],
   "source": [
    "#Using multi_variate analysis\n",
    "distate_healthyear = data.groupby(['state', 'disease', 'report_year'])['health_status'].value_counts()\n",
    "distate_healthyear"
   ]
  },
  {
   "cell_type": "code",
   "execution_count": 61,
   "id": "2cf5d750",
   "metadata": {},
   "outputs": [
    {
     "data": {
      "text/plain": [
       "<AxesSubplot:ylabel='state,disease,report_year,health_status'>"
      ]
     },
     "execution_count": 61,
     "metadata": {},
     "output_type": "execute_result"
    },
    {
     "data": {
      "image/png": "[encoded data removed]",
      "text/plain": [
       "<Figure size 864x576 with 1 Axes>"
      ]
     },
     "metadata": {
      "needs_background": "light"
     },
     "output_type": "display_data"
    }
   ],
   "source": [
    "distate_healthyear.head().plot(kind = 'barh', figsize = (12, 8))"
   ]
  },
  {
   "cell_type": "code",
   "execution_count": null,
   "id": "d1c53262",
   "metadata": {},
   "outputs": [],
   "source": []
  },
  {
   "cell_type": "markdown",
   "id": "b3b26b30",
   "metadata": {},
   "source": [
    "### MODELING OUR DATA"
   ]
  },
  {
   "cell_type": "code",
   "execution_count": 62,
   "id": "41e038bd",
   "metadata": {},
   "outputs": [
    {
     "data": {
      "text/html": [
       "<div>\n",
       "<style scoped>\n",
       "    .dataframe tbody tr th:only-of-type {\n",
       "        vertical-align: middle;\n",
       "    }\n",
       "\n",
       "    .dataframe tbody tr th {\n",
       "        vertical-align: top;\n",
       "    }\n",
       "\n",
       "    .dataframe thead th {\n",
       "        text-align: right;\n",
       "    }\n",
       "</style>\n",
       "<table border=\"1\" class=\"dataframe\">\n",
       "  <thead>\n",
       "    <tr style=\"text-align: right;\">\n",
       "      <th></th>\n",
       "      <th>id</th>\n",
       "      <th>surname</th>\n",
       "      <th>firstname</th>\n",
       "      <th>middlename</th>\n",
       "      <th>gender</th>\n",
       "      <th>gender_male</th>\n",
       "      <th>gender_female</th>\n",
       "      <th>state</th>\n",
       "      <th>settlement</th>\n",
       "      <th>rural_settlement</th>\n",
       "      <th>...</th>\n",
       "      <th>NmA</th>\n",
       "      <th>NmC</th>\n",
       "      <th>NmW</th>\n",
       "      <th>health_status</th>\n",
       "      <th>alive</th>\n",
       "      <th>dead</th>\n",
       "      <th>report_outcome</th>\n",
       "      <th>unconfirmed</th>\n",
       "      <th>confirmed</th>\n",
       "      <th>null_serotype</th>\n",
       "    </tr>\n",
       "  </thead>\n",
       "  <tbody>\n",
       "    <tr>\n",
       "      <th>0</th>\n",
       "      <td>1</td>\n",
       "      <td>Solade</td>\n",
       "      <td>Grace</td>\n",
       "      <td>Solape</td>\n",
       "      <td>Female</td>\n",
       "      <td>0</td>\n",
       "      <td>1</td>\n",
       "      <td>Rivers</td>\n",
       "      <td>Rural</td>\n",
       "      <td>1</td>\n",
       "      <td>...</td>\n",
       "      <td>0</td>\n",
       "      <td>0</td>\n",
       "      <td>0</td>\n",
       "      <td>alive</td>\n",
       "      <td>1</td>\n",
       "      <td>0</td>\n",
       "      <td>confirmed</td>\n",
       "      <td>0</td>\n",
       "      <td>1</td>\n",
       "      <td>1</td>\n",
       "    </tr>\n",
       "    <tr>\n",
       "      <th>1</th>\n",
       "      <td>2</td>\n",
       "      <td>Eneche</td>\n",
       "      <td>Kure</td>\n",
       "      <td>Balogun</td>\n",
       "      <td>Male</td>\n",
       "      <td>1</td>\n",
       "      <td>0</td>\n",
       "      <td>Ebonyi</td>\n",
       "      <td>Rural</td>\n",
       "      <td>1</td>\n",
       "      <td>...</td>\n",
       "      <td>0</td>\n",
       "      <td>0</td>\n",
       "      <td>1</td>\n",
       "      <td>Alive</td>\n",
       "      <td>1</td>\n",
       "      <td>0</td>\n",
       "      <td>Confirmed</td>\n",
       "      <td>1</td>\n",
       "      <td>0</td>\n",
       "      <td>1</td>\n",
       "    </tr>\n",
       "    <tr>\n",
       "      <th>2</th>\n",
       "      <td>3</td>\n",
       "      <td>Sanusi</td>\n",
       "      <td>Adaugo</td>\n",
       "      <td>Katerine</td>\n",
       "      <td>Female</td>\n",
       "      <td>0</td>\n",
       "      <td>1</td>\n",
       "      <td>Ogun</td>\n",
       "      <td>Urban</td>\n",
       "      <td>0</td>\n",
       "      <td>...</td>\n",
       "      <td>0</td>\n",
       "      <td>0</td>\n",
       "      <td>1</td>\n",
       "      <td>Dead</td>\n",
       "      <td>0</td>\n",
       "      <td>1</td>\n",
       "      <td>Not Confirmed</td>\n",
       "      <td>1</td>\n",
       "      <td>0</td>\n",
       "      <td>1</td>\n",
       "    </tr>\n",
       "  </tbody>\n",
       "</table>\n",
       "<p>3 rows × 40 columns</p>\n",
       "</div>"
      ],
      "text/plain": [
       "   id surname firstname middlename  gender  gender_male  gender_female  \\\n",
       "0   1  Solade     Grace     Solape  Female            0              1   \n",
       "1   2  Eneche      Kure    Balogun    Male            1              0   \n",
       "2   3  Sanusi    Adaugo   Katerine  Female            0              1   \n",
       "\n",
       "    state settlement  rural_settlement  ...  NmA NmC  NmW  health_status  \\\n",
       "0  Rivers      Rural                 1  ...    0   0    0          alive   \n",
       "1  Ebonyi      Rural                 1  ...    0   0    1          Alive   \n",
       "2    Ogun      Urban                 0  ...    0   0    1           Dead   \n",
       "\n",
       "  alive dead  report_outcome  unconfirmed confirmed  null_serotype  \n",
       "0     1    0       confirmed            0         1              1  \n",
       "1     1    0       Confirmed            1         0              1  \n",
       "2     0    1   Not Confirmed            1         0              1  \n",
       "\n",
       "[3 rows x 40 columns]"
      ]
     },
     "execution_count": 62,
     "metadata": {},
     "output_type": "execute_result"
    }
   ],
   "source": [
    "meni_data1.head(3)"
   ]
  },
  {
   "cell_type": "code",
   "execution_count": 63,
   "id": "5b0f3121",
   "metadata": {},
   "outputs": [
    {
     "data": {
      "text/html": [
       "<div>\n",
       "<style scoped>\n",
       "    .dataframe tbody tr th:only-of-type {\n",
       "        vertical-align: middle;\n",
       "    }\n",
       "\n",
       "    .dataframe tbody tr th {\n",
       "        vertical-align: top;\n",
       "    }\n",
       "\n",
       "    .dataframe thead th {\n",
       "        text-align: right;\n",
       "    }\n",
       "</style>\n",
       "<table border=\"1\" class=\"dataframe\">\n",
       "  <thead>\n",
       "    <tr style=\"text-align: right;\">\n",
       "      <th></th>\n",
       "      <th>id</th>\n",
       "      <th>surname</th>\n",
       "      <th>firstname</th>\n",
       "      <th>middlename</th>\n",
       "      <th>gender</th>\n",
       "      <th>gender_male</th>\n",
       "      <th>gender_female</th>\n",
       "      <th>state</th>\n",
       "      <th>settlement</th>\n",
       "      <th>rural_settlement</th>\n",
       "      <th>...</th>\n",
       "      <th>NmC</th>\n",
       "      <th>NmW</th>\n",
       "      <th>health_status</th>\n",
       "      <th>alive</th>\n",
       "      <th>dead</th>\n",
       "      <th>report_outcome</th>\n",
       "      <th>unconfirmed</th>\n",
       "      <th>confirmed</th>\n",
       "      <th>null_serotype</th>\n",
       "      <th>Age_group</th>\n",
       "    </tr>\n",
       "  </thead>\n",
       "  <tbody>\n",
       "    <tr>\n",
       "      <th>0</th>\n",
       "      <td>1</td>\n",
       "      <td>Solade</td>\n",
       "      <td>Grace</td>\n",
       "      <td>Solape</td>\n",
       "      <td>Female</td>\n",
       "      <td>0</td>\n",
       "      <td>1</td>\n",
       "      <td>Rivers</td>\n",
       "      <td>Rural</td>\n",
       "      <td>1</td>\n",
       "      <td>...</td>\n",
       "      <td>0</td>\n",
       "      <td>0</td>\n",
       "      <td>alive</td>\n",
       "      <td>1</td>\n",
       "      <td>0</td>\n",
       "      <td>confirmed</td>\n",
       "      <td>0</td>\n",
       "      <td>1</td>\n",
       "      <td>1</td>\n",
       "      <td>Adult</td>\n",
       "    </tr>\n",
       "    <tr>\n",
       "      <th>1</th>\n",
       "      <td>2</td>\n",
       "      <td>Eneche</td>\n",
       "      <td>Kure</td>\n",
       "      <td>Balogun</td>\n",
       "      <td>Male</td>\n",
       "      <td>1</td>\n",
       "      <td>0</td>\n",
       "      <td>Ebonyi</td>\n",
       "      <td>Rural</td>\n",
       "      <td>1</td>\n",
       "      <td>...</td>\n",
       "      <td>0</td>\n",
       "      <td>1</td>\n",
       "      <td>Alive</td>\n",
       "      <td>1</td>\n",
       "      <td>0</td>\n",
       "      <td>Confirmed</td>\n",
       "      <td>1</td>\n",
       "      <td>0</td>\n",
       "      <td>1</td>\n",
       "      <td>Adult</td>\n",
       "    </tr>\n",
       "    <tr>\n",
       "      <th>2</th>\n",
       "      <td>3</td>\n",
       "      <td>Sanusi</td>\n",
       "      <td>Adaugo</td>\n",
       "      <td>Katerine</td>\n",
       "      <td>Female</td>\n",
       "      <td>0</td>\n",
       "      <td>1</td>\n",
       "      <td>Ogun</td>\n",
       "      <td>Urban</td>\n",
       "      <td>0</td>\n",
       "      <td>...</td>\n",
       "      <td>0</td>\n",
       "      <td>1</td>\n",
       "      <td>Dead</td>\n",
       "      <td>0</td>\n",
       "      <td>1</td>\n",
       "      <td>Not Confirmed</td>\n",
       "      <td>1</td>\n",
       "      <td>0</td>\n",
       "      <td>1</td>\n",
       "      <td>Adult</td>\n",
       "    </tr>\n",
       "    <tr>\n",
       "      <th>3</th>\n",
       "      <td>4</td>\n",
       "      <td>Sowore</td>\n",
       "      <td>Mooslemat</td>\n",
       "      <td>Ifedayo</td>\n",
       "      <td>Female</td>\n",
       "      <td>0</td>\n",
       "      <td>1</td>\n",
       "      <td>Ondo</td>\n",
       "      <td>Rural</td>\n",
       "      <td>1</td>\n",
       "      <td>...</td>\n",
       "      <td>0</td>\n",
       "      <td>1</td>\n",
       "      <td>Alive</td>\n",
       "      <td>1</td>\n",
       "      <td>0</td>\n",
       "      <td>Not Confirmed</td>\n",
       "      <td>1</td>\n",
       "      <td>0</td>\n",
       "      <td>1</td>\n",
       "      <td>Elder</td>\n",
       "    </tr>\n",
       "    <tr>\n",
       "      <th>4</th>\n",
       "      <td>5</td>\n",
       "      <td>Abdusalam</td>\n",
       "      <td>Yusuf</td>\n",
       "      <td>Okafor</td>\n",
       "      <td>Male</td>\n",
       "      <td>1</td>\n",
       "      <td>0</td>\n",
       "      <td>Oyo</td>\n",
       "      <td>Urban</td>\n",
       "      <td>0</td>\n",
       "      <td>...</td>\n",
       "      <td>0</td>\n",
       "      <td>1</td>\n",
       "      <td>Alive</td>\n",
       "      <td>1</td>\n",
       "      <td>0</td>\n",
       "      <td>Confirmed</td>\n",
       "      <td>1</td>\n",
       "      <td>0</td>\n",
       "      <td>1</td>\n",
       "      <td>Child</td>\n",
       "    </tr>\n",
       "  </tbody>\n",
       "</table>\n",
       "<p>5 rows × 41 columns</p>\n",
       "</div>"
      ],
      "text/plain": [
       "   id    surname  firstname middlename  gender  gender_male  gender_female  \\\n",
       "0   1     Solade      Grace     Solape  Female            0              1   \n",
       "1   2     Eneche       Kure    Balogun    Male            1              0   \n",
       "2   3     Sanusi     Adaugo   Katerine  Female            0              1   \n",
       "3   4     Sowore  Mooslemat    Ifedayo  Female            0              1   \n",
       "4   5  Abdusalam      Yusuf     Okafor    Male            1              0   \n",
       "\n",
       "    state settlement  rural_settlement  ...  NmC NmW  health_status  alive  \\\n",
       "0  Rivers      Rural                 1  ...    0   0          alive      1   \n",
       "1  Ebonyi      Rural                 1  ...    0   1          Alive      1   \n",
       "2    Ogun      Urban                 0  ...    0   1           Dead      0   \n",
       "3    Ondo      Rural                 1  ...    0   1          Alive      1   \n",
       "4     Oyo      Urban                 0  ...    0   1          Alive      1   \n",
       "\n",
       "  dead report_outcome  unconfirmed  confirmed null_serotype  Age_group  \n",
       "0    0      confirmed            0          1             1      Adult  \n",
       "1    0      Confirmed            1          0             1      Adult  \n",
       "2    1  Not Confirmed            1          0             1      Adult  \n",
       "3    0  Not Confirmed            1          0             1      Elder  \n",
       "4    0      Confirmed            1          0             1      Child  \n",
       "\n",
       "[5 rows x 41 columns]"
      ]
     },
     "execution_count": 63,
     "metadata": {},
     "output_type": "execute_result"
    }
   ],
   "source": [
    "#Adding new column to the dataset\n",
    "meni_data1['Age_group']= ['Child'if i < 13 else \"Teenager\" if i < 20 else 'Adult' if i< 55 else 'Elder'for i in data.age]\n",
    "meni_data1.head()"
   ]
  },
  {
   "cell_type": "code",
   "execution_count": 64,
   "id": "cfa89945",
   "metadata": {},
   "outputs": [],
   "source": [
    "from sklearn.preprocessing import LabelEncoder\n",
    "le = LabelEncoder()\n",
    "#using label encoder to convert category columns to numerical values \n",
    "meni_data1.report_outcome = le.fit_transform(meni_data1.report_outcome.values)\n",
    "meni_data1.Age_group = le.fit_transform(meni_data1.Age_group.values)\n",
    "meni_data1.disease = le.fit_transform(meni_data1.disease.values)"
   ]
  },
  {
   "cell_type": "code",
   "execution_count": 65,
   "id": "03ac0e5b",
   "metadata": {},
   "outputs": [
    {
     "data": {
      "text/html": [
       "<div>\n",
       "<style scoped>\n",
       "    .dataframe tbody tr th:only-of-type {\n",
       "        vertical-align: middle;\n",
       "    }\n",
       "\n",
       "    .dataframe tbody tr th {\n",
       "        vertical-align: top;\n",
       "    }\n",
       "\n",
       "    .dataframe thead th {\n",
       "        text-align: right;\n",
       "    }\n",
       "</style>\n",
       "<table border=\"1\" class=\"dataframe\">\n",
       "  <thead>\n",
       "    <tr style=\"text-align: right;\">\n",
       "      <th></th>\n",
       "      <th>id</th>\n",
       "      <th>surname</th>\n",
       "      <th>firstname</th>\n",
       "      <th>middlename</th>\n",
       "      <th>gender</th>\n",
       "      <th>gender_male</th>\n",
       "      <th>gender_female</th>\n",
       "      <th>state</th>\n",
       "      <th>settlement</th>\n",
       "      <th>rural_settlement</th>\n",
       "      <th>...</th>\n",
       "      <th>NmC</th>\n",
       "      <th>NmW</th>\n",
       "      <th>health_status</th>\n",
       "      <th>alive</th>\n",
       "      <th>dead</th>\n",
       "      <th>report_outcome</th>\n",
       "      <th>unconfirmed</th>\n",
       "      <th>confirmed</th>\n",
       "      <th>null_serotype</th>\n",
       "      <th>Age_group</th>\n",
       "    </tr>\n",
       "  </thead>\n",
       "  <tbody>\n",
       "    <tr>\n",
       "      <th>0</th>\n",
       "      <td>1</td>\n",
       "      <td>Solade</td>\n",
       "      <td>Grace</td>\n",
       "      <td>Solape</td>\n",
       "      <td>Female</td>\n",
       "      <td>0</td>\n",
       "      <td>1</td>\n",
       "      <td>Rivers</td>\n",
       "      <td>Rural</td>\n",
       "      <td>1</td>\n",
       "      <td>...</td>\n",
       "      <td>0</td>\n",
       "      <td>0</td>\n",
       "      <td>alive</td>\n",
       "      <td>1</td>\n",
       "      <td>0</td>\n",
       "      <td>2</td>\n",
       "      <td>0</td>\n",
       "      <td>1</td>\n",
       "      <td>1</td>\n",
       "      <td>0</td>\n",
       "    </tr>\n",
       "    <tr>\n",
       "      <th>1</th>\n",
       "      <td>2</td>\n",
       "      <td>Eneche</td>\n",
       "      <td>Kure</td>\n",
       "      <td>Balogun</td>\n",
       "      <td>Male</td>\n",
       "      <td>1</td>\n",
       "      <td>0</td>\n",
       "      <td>Ebonyi</td>\n",
       "      <td>Rural</td>\n",
       "      <td>1</td>\n",
       "      <td>...</td>\n",
       "      <td>0</td>\n",
       "      <td>1</td>\n",
       "      <td>Alive</td>\n",
       "      <td>1</td>\n",
       "      <td>0</td>\n",
       "      <td>0</td>\n",
       "      <td>1</td>\n",
       "      <td>0</td>\n",
       "      <td>1</td>\n",
       "      <td>0</td>\n",
       "    </tr>\n",
       "    <tr>\n",
       "      <th>2</th>\n",
       "      <td>3</td>\n",
       "      <td>Sanusi</td>\n",
       "      <td>Adaugo</td>\n",
       "      <td>Katerine</td>\n",
       "      <td>Female</td>\n",
       "      <td>0</td>\n",
       "      <td>1</td>\n",
       "      <td>Ogun</td>\n",
       "      <td>Urban</td>\n",
       "      <td>0</td>\n",
       "      <td>...</td>\n",
       "      <td>0</td>\n",
       "      <td>1</td>\n",
       "      <td>Dead</td>\n",
       "      <td>0</td>\n",
       "      <td>1</td>\n",
       "      <td>1</td>\n",
       "      <td>1</td>\n",
       "      <td>0</td>\n",
       "      <td>1</td>\n",
       "      <td>0</td>\n",
       "    </tr>\n",
       "  </tbody>\n",
       "</table>\n",
       "<p>3 rows × 41 columns</p>\n",
       "</div>"
      ],
      "text/plain": [
       "   id surname firstname middlename  gender  gender_male  gender_female  \\\n",
       "0   1  Solade     Grace     Solape  Female            0              1   \n",
       "1   2  Eneche      Kure    Balogun    Male            1              0   \n",
       "2   3  Sanusi    Adaugo   Katerine  Female            0              1   \n",
       "\n",
       "    state settlement  rural_settlement  ...  NmC NmW  health_status  alive  \\\n",
       "0  Rivers      Rural                 1  ...    0   0          alive      1   \n",
       "1  Ebonyi      Rural                 1  ...    0   1          Alive      1   \n",
       "2    Ogun      Urban                 0  ...    0   1           Dead      0   \n",
       "\n",
       "  dead report_outcome  unconfirmed  confirmed  null_serotype  Age_group  \n",
       "0    0              2            0          1              1          0  \n",
       "1    0              0            1          0              1          0  \n",
       "2    1              1            1          0              1          0  \n",
       "\n",
       "[3 rows x 41 columns]"
      ]
     },
     "execution_count": 65,
     "metadata": {},
     "output_type": "execute_result"
    }
   ],
   "source": [
    "meni_data1.head(3)"
   ]
  },
  {
   "cell_type": "code",
   "execution_count": 67,
   "id": "459d9fb0",
   "metadata": {},
   "outputs": [
    {
     "data": {
      "text/html": [
       "<div>\n",
       "<style scoped>\n",
       "    .dataframe tbody tr th:only-of-type {\n",
       "        vertical-align: middle;\n",
       "    }\n",
       "\n",
       "    .dataframe tbody tr th {\n",
       "        vertical-align: top;\n",
       "    }\n",
       "\n",
       "    .dataframe thead th {\n",
       "        text-align: right;\n",
       "    }\n",
       "</style>\n",
       "<table border=\"1\" class=\"dataframe\">\n",
       "  <thead>\n",
       "    <tr style=\"text-align: right;\">\n",
       "      <th></th>\n",
       "      <th>gender_male</th>\n",
       "      <th>gender_female</th>\n",
       "      <th>rural_settlement</th>\n",
       "      <th>urban_settlement</th>\n",
       "      <th>Age_group</th>\n",
       "      <th>disease</th>\n",
       "    </tr>\n",
       "  </thead>\n",
       "  <tbody>\n",
       "    <tr>\n",
       "      <th>0</th>\n",
       "      <td>0</td>\n",
       "      <td>1</td>\n",
       "      <td>1</td>\n",
       "      <td>0</td>\n",
       "      <td>0</td>\n",
       "      <td>0</td>\n",
       "    </tr>\n",
       "    <tr>\n",
       "      <th>1</th>\n",
       "      <td>1</td>\n",
       "      <td>0</td>\n",
       "      <td>1</td>\n",
       "      <td>0</td>\n",
       "      <td>0</td>\n",
       "      <td>4</td>\n",
       "    </tr>\n",
       "    <tr>\n",
       "      <th>2</th>\n",
       "      <td>0</td>\n",
       "      <td>1</td>\n",
       "      <td>0</td>\n",
       "      <td>1</td>\n",
       "      <td>0</td>\n",
       "      <td>4</td>\n",
       "    </tr>\n",
       "  </tbody>\n",
       "</table>\n",
       "</div>"
      ],
      "text/plain": [
       "   gender_male  gender_female  rural_settlement  urban_settlement  Age_group  \\\n",
       "0            0              1                 1                 0          0   \n",
       "1            1              0                 1                 0          0   \n",
       "2            0              1                 0                 1          0   \n",
       "\n",
       "   disease  \n",
       "0        0  \n",
       "1        4  \n",
       "2        4  "
      ]
     },
     "execution_count": 67,
     "metadata": {},
     "output_type": "execute_result"
    }
   ],
   "source": [
    "#Extracting the independent variable\n",
    "x= meni_data1[['gender_male', 'gender_female', 'rural_settlement', 'urban_settlement', 'Age_group', 'disease']]\n",
    "x.head(3)"
   ]
  },
  {
   "cell_type": "code",
   "execution_count": 68,
   "id": "453ff519",
   "metadata": {},
   "outputs": [
    {
     "data": {
      "text/html": [
       "<div>\n",
       "<style scoped>\n",
       "    .dataframe tbody tr th:only-of-type {\n",
       "        vertical-align: middle;\n",
       "    }\n",
       "\n",
       "    .dataframe tbody tr th {\n",
       "        vertical-align: top;\n",
       "    }\n",
       "\n",
       "    .dataframe thead th {\n",
       "        text-align: right;\n",
       "    }\n",
       "</style>\n",
       "<table border=\"1\" class=\"dataframe\">\n",
       "  <thead>\n",
       "    <tr style=\"text-align: right;\">\n",
       "      <th></th>\n",
       "      <th>confirmed</th>\n",
       "    </tr>\n",
       "  </thead>\n",
       "  <tbody>\n",
       "    <tr>\n",
       "      <th>0</th>\n",
       "      <td>1</td>\n",
       "    </tr>\n",
       "    <tr>\n",
       "      <th>1</th>\n",
       "      <td>0</td>\n",
       "    </tr>\n",
       "    <tr>\n",
       "      <th>2</th>\n",
       "      <td>0</td>\n",
       "    </tr>\n",
       "    <tr>\n",
       "      <th>3</th>\n",
       "      <td>0</td>\n",
       "    </tr>\n",
       "    <tr>\n",
       "      <th>4</th>\n",
       "      <td>0</td>\n",
       "    </tr>\n",
       "  </tbody>\n",
       "</table>\n",
       "</div>"
      ],
      "text/plain": [
       "   confirmed\n",
       "0          1\n",
       "1          0\n",
       "2          0\n",
       "3          0\n",
       "4          0"
      ]
     },
     "execution_count": 68,
     "metadata": {},
     "output_type": "execute_result"
    }
   ],
   "source": [
    "#Extracting the dependant variable\n",
    "y = meni_data1[[\"confirmed\"]]\n",
    "y.head(5)"
   ]
  },
  {
   "cell_type": "markdown",
   "id": "7e63e3cb",
   "metadata": {},
   "source": [
    "### Using Logistic Regression Model"
   ]
  },
  {
   "cell_type": "code",
   "execution_count": 96,
   "id": "9bdf0b85",
   "metadata": {},
   "outputs": [],
   "source": [
    "#importing the model\n",
    "from sklearn.model_selection import train_test_split"
   ]
  },
  {
   "cell_type": "code",
   "execution_count": 97,
   "id": "685abd94",
   "metadata": {},
   "outputs": [
    {
     "data": {
      "text/plain": [
       "LogisticRegression()"
      ]
     },
     "execution_count": 97,
     "metadata": {},
     "output_type": "execute_result"
    }
   ],
   "source": [
    "##Calling the Object to build our model\n",
    "model = LogisticRegression()\n",
    "model"
   ]
  },
  {
   "cell_type": "code",
   "execution_count": 105,
   "id": "8c8a6cdb",
   "metadata": {},
   "outputs": [],
   "source": [
    "#Splitting our dataset into train and test\n",
    "x_train, x_test, y_train, y_test = train_test_split(x, y, test_size = 0.2, random_state = 52)\n"
   ]
  },
  {
   "cell_type": "code",
   "execution_count": 158,
   "id": "bbd43532",
   "metadata": {},
   "outputs": [
    {
     "data": {
      "text/plain": [
       "227587"
      ]
     },
     "execution_count": 158,
     "metadata": {},
     "output_type": "execute_result"
    }
   ],
   "source": [
    "len(x_train)"
   ]
  },
  {
   "cell_type": "code",
   "execution_count": 159,
   "id": "25094cb5",
   "metadata": {},
   "outputs": [
    {
     "data": {
      "text/plain": [
       "56897"
      ]
     },
     "execution_count": 159,
     "metadata": {},
     "output_type": "execute_result"
    }
   ],
   "source": [
    "len(x_test)"
   ]
  },
  {
   "cell_type": "code",
   "execution_count": 106,
   "id": "a8a2dd05",
   "metadata": {},
   "outputs": [],
   "source": [
    " #Fitting the dataset for training \n",
    "reg_log =model.fit(x_train, y_train)"
   ]
  },
  {
   "cell_type": "code",
   "execution_count": 107,
   "id": "ffd2bf41",
   "metadata": {},
   "outputs": [
    {
     "data": {
      "text/plain": [
       "0.7483171344710617"
      ]
     },
     "execution_count": 107,
     "metadata": {},
     "output_type": "execute_result"
    }
   ],
   "source": [
    "#Checking the performance of the model\n",
    "model.score(x_test,y_test)"
   ]
  },
  {
   "cell_type": "code",
   "execution_count": 108,
   "id": "f5cfcaeb",
   "metadata": {},
   "outputs": [
    {
     "data": {
      "text/plain": [
       "array([0, 0, 0, ..., 0, 0, 0], dtype=int64)"
      ]
     },
     "execution_count": 108,
     "metadata": {},
     "output_type": "execute_result"
    }
   ],
   "source": [
    "y_pred= reg_log.predict(x_test)\n",
    "y_pred"
   ]
  },
  {
   "cell_type": "code",
   "execution_count": 109,
   "id": "35373693",
   "metadata": {},
   "outputs": [],
   "source": [
    "#y_pred = reg_log.predict([[0, 1, 1, 0, 0, 0]])\n",
    "#y_pred"
   ]
  },
  {
   "cell_type": "code",
   "execution_count": 110,
   "id": "faeccd51",
   "metadata": {},
   "outputs": [],
   "source": [
    "#y_pred = reg_log.predict([[1, 0, 1, 0, 2, 4]])\n",
    "#y_pred"
   ]
  },
  {
   "cell_type": "code",
   "execution_count": 111,
   "id": "7d599843",
   "metadata": {},
   "outputs": [
    {
     "data": {
      "text/plain": [
       "array([[42577,     0],\n",
       "       [14320,     0]], dtype=int64)"
      ]
     },
     "execution_count": 111,
     "metadata": {},
     "output_type": "execute_result"
    }
   ],
   "source": [
    "Confusion_score = confusion_matrix(y_test, y_pred)\n",
    "Confusion_score"
   ]
  },
  {
   "cell_type": "code",
   "execution_count": 112,
   "id": "15c1cce6",
   "metadata": {},
   "outputs": [
    {
     "name": "stdout",
     "output_type": "stream",
     "text": [
      "              precision    recall  f1-score   support\n",
      "\n",
      "           0       0.75      1.00      0.86     42577\n",
      "           1       0.00      0.00      0.00     14320\n",
      "\n",
      "    accuracy                           0.75     56897\n",
      "   macro avg       0.37      0.50      0.43     56897\n",
      "weighted avg       0.56      0.75      0.64     56897\n",
      "\n"
     ]
    }
   ],
   "source": [
    "print (classification_report(y_test, y_pred))"
   ]
  },
  {
   "cell_type": "code",
   "execution_count": 116,
   "id": "7cbe2f92",
   "metadata": {},
   "outputs": [
    {
     "data": {
      "text/plain": [
       "<AxesSubplot:>"
      ]
     },
     "execution_count": 116,
     "metadata": {},
     "output_type": "execute_result"
    },
    {
     "data": {
      "image/png": "[encoded data removed]",
      "text/plain": [
       "<Figure size 432x288 with 2 Axes>"
      ]
     },
     "metadata": {
      "needs_background": "light"
     },
     "output_type": "display_data"
    }
   ],
   "source": [
    "sns.heatmap(Confusion_score, annot = True)"
   ]
  },
  {
   "cell_type": "markdown",
   "id": "951696be",
   "metadata": {},
   "source": [
    "### Using Decision Tree"
   ]
  },
  {
   "cell_type": "code",
   "execution_count": 76,
   "id": "3aa8586b",
   "metadata": {},
   "outputs": [],
   "source": [
    "#Using decision tree to see if our mode will perform better\n",
    "from sklearn.tree import DecisionTreeClassifier"
   ]
  },
  {
   "cell_type": "code",
   "execution_count": 77,
   "id": "bb2a9988",
   "metadata": {},
   "outputs": [
    {
     "data": {
      "text/plain": [
       "DecisionTreeClassifier()"
      ]
     },
     "execution_count": 77,
     "metadata": {},
     "output_type": "execute_result"
    }
   ],
   "source": [
    "#Call in the object for model\n",
    "model_dic = DecisionTreeClassifier()\n",
    "model_dic"
   ]
  },
  {
   "cell_type": "code",
   "execution_count": 78,
   "id": "299e3ef8",
   "metadata": {},
   "outputs": [],
   "source": [
    "#Splitting the dataset into train and test \n",
    "x_train, x_test, y_train, y_test = train_test_split(x, y, test_size = 0.3)"
   ]
  },
  {
   "cell_type": "code",
   "execution_count": 79,
   "id": "8882edbd",
   "metadata": {},
   "outputs": [
    {
     "data": {
      "text/plain": [
       "DecisionTreeClassifier()"
      ]
     },
     "execution_count": 79,
     "metadata": {},
     "output_type": "execute_result"
    }
   ],
   "source": [
    "#Fitting the dataset \n",
    "model_fit = model_dic.fit(x_train, y_train)\n",
    "model_fit"
   ]
  },
  {
   "cell_type": "code",
   "execution_count": 80,
   "id": "60e0e7a8",
   "metadata": {},
   "outputs": [
    {
     "data": {
      "text/plain": [
       "0.7500527265484029"
      ]
     },
     "execution_count": 80,
     "metadata": {},
     "output_type": "execute_result"
    }
   ],
   "source": [
    "#Checking the accuracy of our model\n",
    "model_dic.score(x_test, y_test)"
   ]
  },
  {
   "cell_type": "markdown",
   "id": "d9241406",
   "metadata": {},
   "source": [
    "### Using RandomForest Classifier"
   ]
  },
  {
   "cell_type": "code",
   "execution_count": 81,
   "id": "4ca9ea82",
   "metadata": {},
   "outputs": [
    {
     "data": {
      "text/plain": [
       "RandomForestClassifier(n_estimators=60, n_jobs=-1, oob_score=True,\n",
       "                       random_state=40)"
      ]
     },
     "execution_count": 81,
     "metadata": {},
     "output_type": "execute_result"
    }
   ],
   "source": [
    "from sklearn.ensemble import RandomForestClassifier\n",
    "#Call the object model\n",
    "model_r = RandomForestClassifier(n_estimators = 60, random_state = 40, n_jobs = - 1, oob_score = True)\n",
    "model_r"
   ]
  },
  {
   "cell_type": "code",
   "execution_count": 82,
   "id": "69fbfcc9",
   "metadata": {},
   "outputs": [
    {
     "data": {
      "text/plain": [
       "RandomForestClassifier(n_estimators=60, n_jobs=-1, oob_score=True,\n",
       "                       random_state=40)"
      ]
     },
     "execution_count": 82,
     "metadata": {},
     "output_type": "execute_result"
    }
   ],
   "source": [
    "#Fitting the data \n",
    "model_fit = model_r.fit(x_train, y_train)\n",
    "model_fit"
   ]
  },
  {
   "cell_type": "code",
   "execution_count": 83,
   "id": "6a1ce211",
   "metadata": {},
   "outputs": [
    {
     "data": {
      "text/plain": [
       "0.7495723291073981"
      ]
     },
     "execution_count": 83,
     "metadata": {},
     "output_type": "execute_result"
    }
   ],
   "source": [
    "#Checking the accuracy of the model\n",
    "model_r.score(x_test, y_test)"
   ]
  },
  {
   "cell_type": "markdown",
   "id": "7c8a70c6",
   "metadata": {},
   "source": [
    "### Conclusion: This dataset has limitations. For instance,  there's no available symptoms to do a prediction to know if a patient has a particlar disease or not else it would have enhance the performance of our model."
   ]
  },
  {
   "cell_type": "code",
   "execution_count": null,
   "id": "aeafbc03",
   "metadata": {},
   "outputs": [],
   "source": []
  },
  {
   "cell_type": "code",
   "execution_count": null,
   "id": "822cabf9",
   "metadata": {},
   "outputs": [],
   "source": []
  },
  {
   "cell_type": "code",
   "execution_count": null,
   "id": "05dc1cc7",
   "metadata": {},
   "outputs": [],
   "source": []
  }
 ],
 "metadata": {
  "kernelspec": {
   "display_name": "Python 3 (ipykernel)",
   "language": "python",
   "name": "python3"
  },
  "language_info": {
   "codemirror_mode": {
    "name": "ipython",
    "version": 3
   },
   "file_extension": ".py",
   "mimetype": "text/x-python",
   "name": "python",
   "nbconvert_exporter": "python",
   "pygments_lexer": "ipython3",
   "version": "3.9.12"
  }
 },
 "nbformat": 4,
 "nbformat_minor": 5
}
